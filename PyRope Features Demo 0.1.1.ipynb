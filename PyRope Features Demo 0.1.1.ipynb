{
 "cells": [
  {
   "cell_type": "markdown",
   "id": "e6c12a82",
   "metadata": {},
   "source": [
    "######\n",
    "<img src =\"https://www.htwk-leipzig.de/fileadmin/_processed_/d/9/csm_logo_-PyRope_1a13e128d1.png\"  width=\"120\" style=\"position:absolute; top:7px; right:10px;\"> <span style=\"font-size:40px\">*PyRope* Features Demo</span>"
   ]
  },
  {
   "cell_type": "markdown",
   "id": "6fb0ce7c",
   "metadata": {
    "scrolled": true
   },
   "source": [
    "### Willkommen zur Demo der Features des Assessment-Systems *PyRope*! - Entwicklungsstand 10.07.2025\n",
    "\n",
    "**Zunächst ein paar einführende Erläuterungen:**\n",
    "\n",
    "*PyRope* ist ein Tool zur Entwicklung von Übungs- Test- und Prüfungs-Aufgaben aus Mathematik, Informatik und \n",
    "Naturwissenschaften. Die Aufgabenentwicklung erfolgt in der Programmiersprache Python.\n",
    "\n",
    "Jede Aufgabe wird durch eine von der PyRope - Klasse *Exercise* abgeleitete Klasse repräsentiert, \n",
    "welche Methoden zur Umsetzung der verschiedenen Bestandteile der Aufgabe wie Titel, Parameter, Aufgabentext, \n",
    "Hinweise, Bewertung und Feedback enthält.\n",
    "\n",
    "Ein PyRope - Script enthält eine oder mehrere Klassen und den import-Befehl für PyRope:"
   ]
  },
  {
   "cell_type": "code",
   "execution_count": 4,
   "id": "c6b221e0",
   "metadata": {},
   "outputs": [],
   "source": [
    "from pyrope import *"
   ]
  },
  {
   "cell_type": "markdown",
   "id": "ef5a9695",
   "metadata": {},
   "source": [
    "Essenziell für jede Klasse ist eine ***problem-Methode***, die die Anzeige des Ausgabetextes und - sofern vorhanden - der Inputfelder umsetzt."
   ]
  },
  {
   "cell_type": "code",
   "execution_count": 5,
   "id": "a2aeca2f",
   "metadata": {},
   "outputs": [
    {
     "data": {
      "application/vnd.jupyter.widget-view+json": {
       "model_id": "bfe24385c77244029a2df63110c5e516",
       "version_major": 2,
       "version_minor": 0
      },
      "text/plain": [
       "Exercise(clear_debug_btn=Button(description='Clear Debug', style=ButtonStyle()), debug=True, debug_output=Debu…"
      ]
     },
     "metadata": {},
     "output_type": "display_data"
    }
   ],
   "source": [
    "class DemoBasic(Exercise):\n",
    "    \n",
    "    def problem(self):\n",
    "        return Problem ('Welcome to PyRope')\n",
    "\n",
    "DemoBasic().run(debug=1)"
   ]
  },
  {
   "cell_type": "markdown",
   "id": "68eda5e4",
   "metadata": {},
   "source": [
    "Mittels *Latex*- oder oder *Markdown*-Code kann das Schriftbild gestaltet und Formeln können in die mathematisch korrekte Form gesetzt werden (&rarr; PyRope Methods 1).\n",
    "\n",
    "Im folgenden werden Aufgaben und Funktionsweise der verschiedenen Methoden einer PyRope - Klasse vorgestellt und am Beispiel einer quadratischen Funktion demonstriert."
   ]
  },
  {
   "cell_type": "markdown",
   "id": "e4cc73b9",
   "metadata": {},
   "source": [
    "### PyRope Methods 1:  $~~~$ *preamble*\n",
    "\n",
    "Zum Erzeugen eines Aufgabentitels bietet PyRope diese Optionen:\n",
    "\n",
    "*a) **preamble - Methode:***"
   ]
  },
  {
   "cell_type": "code",
   "execution_count": 6,
   "id": "37fd4f7e-63f1-4f9b-bf68-3b95fdaf9cd4",
   "metadata": {},
   "outputs": [
    {
     "data": {
      "application/vnd.jupyter.widget-view+json": {
       "model_id": "1eeb66fe5e7745ce8ee1ee660f96986c",
       "version_major": 2,
       "version_minor": 0
      },
      "text/plain": [
       "Exercise(clear_debug_btn=Button(description='Clear Debug', style=ButtonStyle()), debug_output=DebugOutput(outp…"
      ]
     },
     "metadata": {},
     "output_type": "display_data"
    }
   ],
   "source": [
    "### preamble Method\n",
    "class DemoPreamble_1(Exercise):\n",
    "    \n",
    "    def preamble(self):\n",
    "        return '### *PyRope* Features Demo'\n",
    "\n",
    "    def problem(self):\n",
    "        return Problem ('Titel erzeugt mit preamble-Methode')\n",
    "     \n",
    "DemoPreamble_1().run()"
   ]
  },
  {
   "cell_type": "markdown",
   "id": "614f527c",
   "metadata": {},
   "source": [
    "*b) **preamble - Command:***"
   ]
  },
  {
   "cell_type": "code",
   "execution_count": 7,
   "id": "7c78e798",
   "metadata": {},
   "outputs": [
    {
     "data": {
      "application/vnd.jupyter.widget-view+json": {
       "model_id": "5cb93371e9d64f90bba11138135815de",
       "version_major": 2,
       "version_minor": 0
      },
      "text/plain": [
       "Exercise(clear_debug_btn=Button(description='Clear Debug', style=ButtonStyle()), debug_output=DebugOutput(outp…"
      ]
     },
     "metadata": {},
     "output_type": "display_data"
    }
   ],
   "source": [
    "### preamble Command\n",
    "class DemoPreamble_2(DemoPreamble_1):\n",
    "\n",
    "    preamble = '$\\\\color{gray}{\\\\large{\\\\textsf{Eigenschaften einer quadratischen Funktion}}}$'\n",
    "\n",
    "    def problem(self):\n",
    "        return Problem ('Titel erzeugt mit preamble-Command; Text formatiert mit Latex')\n",
    "\n",
    "DemoPreamble_2().run()"
   ]
  },
  {
   "cell_type": "markdown",
   "id": "f1848cd0",
   "metadata": {},
   "source": [
    "*c) **preamble DocString:***"
   ]
  },
  {
   "cell_type": "code",
   "execution_count": 8,
   "id": "bb53a73e",
   "metadata": {
    "jupyter": {
     "source_hidden": true
    }
   },
   "outputs": [
    {
     "data": {
      "application/vnd.jupyter.widget-view+json": {
       "model_id": "a141242335e744a78f00cc2ea97962ab",
       "version_major": 2,
       "version_minor": 0
      },
      "text/plain": [
       "Exercise(clear_debug_btn=Button(description='Clear Debug', style=ButtonStyle()), debug_output=DebugOutput(outp…"
      ]
     },
     "metadata": {},
     "output_type": "display_data"
    }
   ],
   "source": [
    "### preamble DocString\n",
    "class DemoPreamble_3(DemoPreamble_1):\n",
    "\n",
    "    '''\n",
    "    *Teil 1 - Demo Methoden*\\\\\n",
    "    **Teil 2 - Datentypen für Inputfelder**\\\\\n",
    "    ***Teil 3 - Widgets***\n",
    "    '''\n",
    "    preamble =  __doc__\n",
    "\n",
    "    def problem(self):\n",
    "        return Problem ('Titel erzeugt mit DocString; Text formatiert mit Markdown')\n",
    "        \n",
    "DemoPreamble_3().run()"
   ]
  },
  {
   "cell_type": "markdown",
   "id": "d0308b59-d96e-4e92-a6e6-ce36031b5728",
   "metadata": {},
   "source": [
    "### PyRope Methods 2: $~~~$ *problem*-Methode\n",
    "Die ***problem*-Methode** enthält den Aufgabentext sowie die für die Eingabe der Lösung benötigten Eingabefelder:"
   ]
  },
  {
   "cell_type": "code",
   "execution_count": 22,
   "id": "2532e40c",
   "metadata": {},
   "outputs": [],
   "source": [
    "### problem\n",
    "class DemoProblem(Exercise):\n",
    "    \n",
    "    def problem(self):\n",
    "        return Problem (\n",
    "       'Bestimmen Sie die Nullstellen $N~([x_{01},~x_{02}],~[x_0]$ oder $~[])$ und den Scheitelpunkt $S=[x_s, y_s]$ '\n",
    "       'der quadratischen Funktion\\n\\n$~~~~~~~~f(x)=$ <<f>>\\n\\n'\n",
    "       'Geben Sie jeweils eine Liste ein, runden Sie auf mind. 3 NK-Stellen!\\n\\n'\n",
    "       '$ N = $ <<nst_>> $ ~~~~~~~~~~~~~~ S = $ <<sp_>>', \n",
    "       nst_ = List(),\n",
    "       sp_ = Vector(count=2, atol = 0.0005)\n",
    "       )"
   ]
  },
  {
   "cell_type": "markdown",
   "id": "503ac234",
   "metadata": {},
   "source": [
    "Damit diese *problem*-Methode in einer *PyRope*-Aufgabe umgesetzt werden kann, bedarf es zusätzlich einer *parameters*-Methode,\n",
    "in der die benötigten Variablen (i.d.R. randomisiert) erzeugt und den in *problem* enthaltenen Outputfeldern zugeordnet sowie die Lösungen bereitgestellt werden.\n",
    "\n",
    "### PyRope Methods 3:  $~~~$ *parameters*-Methode"
   ]
  },
  {
   "cell_type": "code",
   "execution_count": 24,
   "id": "91e8c8d8",
   "metadata": {},
   "outputs": [
    {
     "data": {
      "application/vnd.jupyter.widget-view+json": {
       "model_id": "b7bea27ed4044dfba970eafc73a8170c",
       "version_major": 2,
       "version_minor": 0
      },
      "text/plain": [
       "Exercise(clear_debug_btn=Button(description='Clear Debug', style=ButtonStyle()), debug=True, debug_output=Debu…"
      ]
     },
     "metadata": {},
     "output_type": "display_data"
    }
   ],
   "source": [
    "import random as rd\n",
    "from sympy import symbols\n",
    "from sympy.solvers import solve\n",
    "\n",
    "x = symbols('x')\n",
    "\n",
    "class QuadraticFunction(DemoProblem):\n",
    "    \n",
    "    preamble = DemoPreamble_2().preamble\n",
    "\n",
    "### parameters\n",
    "    def parameters(self):\n",
    "        coeff = []\n",
    "        for i in range (3):\n",
    "            coeff.append(rd.choice([-1,1])*rd.randint(1,9))\n",
    "        [a, b, c] = coeff\n",
    "        f = a*x**2 + b*x + c\n",
    "        nst = []\n",
    "        if b**2/4/a**2 - c/a >= 0:\n",
    "            nst = solve(f, x)\n",
    "            nst.sort()\n",
    "        for i in range(len(nst)):\n",
    "            nst[i] = round(float(nst[i]),3)\n",
    "        xs = -b/2/a\n",
    "        sp = [round(xs, 3), round(a*xs**2 + b*xs + c, 3)]\n",
    "        return {'f': f, 'nst': nst, 'sp': sp}   \n",
    "\n",
    "QuadraticFunction().run(debug=1)"
   ]
  },
  {
   "cell_type": "markdown",
   "id": "2a6d8d48-5f75-4c08-ae9c-dad181aac8f6",
   "metadata": {},
   "source": [
    "Die in der *problem*-Methode (Zeile 9 und 10) bereitgestellten Eingabefelder haben die gleichen Namen wie die in der *parameters*-Methode erzeugten Lösungen *nst* und *sp*, ergänzt um einen Unterstrich ( _ ). Wir nennen diese Namens-Zuordnung die *Unterstrich - Konvention*. In diesem Fall braucht keine *scores*-Methode implementiert zu werden, die Bewertung erfolgt durch PyRope automatisch mit einem Punkt pro Eingabefeld. \n",
    "\n",
    "Folgt die Benennung nicht der Unterstrich-Konvention oder sollen die Inputfelder unterschiedlich bewertet werden, muss die Zuordnung der Inputfelder zu den Lösungen auf andere Weise erfolgen.\n",
    "\n",
    "Hierfür stellt *PyRope* die ***scores-Methode*** zur Verfügung:\n",
    "\n",
    "### PyRope Methods 4:  $~~~$ *scores*"
   ]
  },
  {
   "cell_type": "markdown",
   "id": "d656cacd",
   "metadata": {},
   "source": [
    "Die richtige Lösung für *N* wird jetzt mit 2 Punkten belohnt und die Nullstellen werden in beliebiger Reihenfolge akzeptiert. Ausserdem wird jetzt für jede richtige Koordinate von *S* ein halber Punkt vergeben.\n",
    "Dass auch Eingaben mit höherer als der geforderten Genauigkeit akzeptiert werden, muss dann ebenfalls in *scores* festgelegt werden und der Fall leerer Eingabefelder muss abgefangen werden. "
   ]
  },
  {
   "cell_type": "code",
   "execution_count": 26,
   "id": "fed685cc",
   "metadata": {
    "scrolled": true
   },
   "outputs": [
    {
     "data": {
      "application/vnd.jupyter.widget-view+json": {
       "model_id": "ba3166ed6a1b479b9053589e880eb201",
       "version_major": 2,
       "version_minor": 0
      },
      "text/plain": [
       "Exercise(clear_debug_btn=Button(description='Clear Debug', style=ButtonStyle()), debug=True, debug_output=Debu…"
      ]
     },
     "metadata": {},
     "output_type": "display_data"
    }
   ],
   "source": [
    "class QuadraticFunction_1(QuadraticFunction):\n",
    "\n",
    " ### scores Dictionary\n",
    "    def scores(self, nst_, sp_, nst, sp):\n",
    "        score = [0, 0]\n",
    "        if nst_ is not None:\n",
    "            if len(nst_)==len(nst):\n",
    "                nst_.sort()\n",
    "                for i in range (len(nst)):\n",
    "                    score[0] += (round (nst_[i],3) == nst[i])\n",
    "                score[0] += 2*(len(nst)==0) + 2*score[0]*(len(nst)==1)\n",
    "        if sp_ is not None:\n",
    "            if len(sp_)==2:\n",
    "                score[1] += (round(sp_[0], 3)==sp[0])/2 + (round(sp_[1], 3)==sp[1])/2\n",
    "        return {'nst_': score[0], 'sp_': score[1]}\n",
    "\n",
    "QuadraticFunction_1().run(debug=1)"
   ]
  },
  {
   "cell_type": "markdown",
   "id": "223e859f",
   "metadata": {},
   "source": [
    "### PyRope Methods 5:  $~~~$ *the_solution*\n",
    "\n",
    "Gibt es für alle Inputfelder eindeutige Lösungen, können wir *PyRope* das mit der Methode *the_solution* mitteilen. Wir benötigen dann auch ohne Einhalten der o.e. Unterstrich-Konvention keine *scores*-Methode."
   ]
  },
  {
   "cell_type": "code",
   "execution_count": 28,
   "id": "c4475787",
   "metadata": {
    "scrolled": true
   },
   "outputs": [
    {
     "data": {
      "application/vnd.jupyter.widget-view+json": {
       "model_id": "94ffd2a21c54482c8534875b9b3d2359",
       "version_major": 2,
       "version_minor": 0
      },
      "text/plain": [
       "Exercise(clear_debug_btn=Button(description='Clear Debug', style=ButtonStyle()), debug=True, debug_output=Debu…"
      ]
     },
     "metadata": {},
     "output_type": "display_data"
    }
   ],
   "source": [
    "class QuadraticFunction_2(QuadraticFunction):\n",
    "    \n",
    "    def parameters(self): #immer 1-2 ganzzahlige Nullstellen\n",
    "        m = rd.randint(-3, 3)\n",
    "        n = m + rd.randint(-3, 3)*2\n",
    "        f = x**2 - (m+n)*x + m*n\n",
    "        nst = [m, n]\n",
    "        if m==n: nst.remove(n)\n",
    "        else: nst.sort()\n",
    "        xs = int((m+n)/2)\n",
    "        sp = [xs, (xs-m)*(xs-n)]\n",
    "        return {'f': f, 'nst': nst, 'sp': sp}\n",
    "\n",
    "    def problem(self):\n",
    "        P = QuadraticFunction().problem()\n",
    "        template = P.template.replace('$ oder $~[]','')\n",
    "        template = template.replace('runden Sie auf mind. 3 NK-Stellen','ordnen Sie die Nullstellen aufsteigend')\n",
    "        template = template.replace('<<nst_>>','<<Nst_>>').replace('<<sp_>>','<<Sp_>>')\n",
    "        return Problem(template, Nst_ = Vector(atol = 0.0005), Sp_ = Vector(count=2, atol = 0.0005))\n",
    "    \n",
    "### the_solution\n",
    "    def the_solution(self, nst, sp):\n",
    "        return {'Nst_': nst, 'Sp_': sp}\n",
    "\n",
    "QuadraticFunction_2().run(debug=1)"
   ]
  },
  {
   "cell_type": "markdown",
   "id": "c770f546-ea25-4627-a178-c02bee7b7957",
   "metadata": {},
   "source": [
    "### PyRope Methods 6:  $~~~$ *a_solution*\n",
    "\n",
    "Mit der Methode *a_solution* übermitteln wir *PyRope* zu jedem Inputfeld eine von mehreren möglichen Lösungen, die *Musterlösung*.\\\n",
    "Mit der *scores*-Methode müssen wir dann noch - wie in PyRope Methods 4 gezeigt - festlegen, welche Lösungen ausserdem akzeptiert werden sollen.\\\n",
    "In unserem Beispiel sind das alle präziser als auf 3 NK-Stellen gerundeten Werte sowie 2 Nullstellen, die in absteigender Reihenfolge angegeben wurden.\\\n",
    "**Achtung:** Hierbei dürfen die Musterlösungen nicht die - im Sinne der o.e. Namenskonvention - gleichen Namen wie die zugehörigen Inputfelder haben!        "
   ]
  },
  {
   "cell_type": "code",
   "execution_count": 30,
   "id": "4c21b9d6",
   "metadata": {},
   "outputs": [
    {
     "data": {
      "application/vnd.jupyter.widget-view+json": {
       "model_id": "e5afdd1698ff47dc886751897d2431f2",
       "version_major": 2,
       "version_minor": 0
      },
      "text/plain": [
       "Exercise(clear_debug_btn=Button(description='Clear Debug', style=ButtonStyle()), debug=True, debug_output=Debu…"
      ]
     },
     "metadata": {},
     "output_type": "display_data"
    }
   ],
   "source": [
    "class QuadraticFunction_3(QuadraticFunction):\n",
    "\n",
    "    def problem(self):\n",
    "        P = QuadraticFunction().problem()\n",
    "        template = P.template.replace('<<nst_>>','<<Nst_>>').replace('<<sp_>>','<<Sp_>>')\n",
    "        return Problem(template,Nst_ = Vector(atol = 0.0005), Sp_ = Vector(count=2, atol = 0.0005))\n",
    "        \n",
    "### a_solution\n",
    "    def a_solution(self, nst, sp):\n",
    "        return {'Nst_': nst, 'Sp_': sp}\n",
    "\n",
    "    def scores(self, Nst_, Sp_, nst, sp):\n",
    "        score = QuadraticFunction_1().scores(Nst_, Sp_, nst, sp)\n",
    "        score['Nst_'] = score.pop('nst_')\n",
    "        score['Sp_'] = score.pop('sp_')\n",
    "        return score\n",
    "\n",
    "QuadraticFunction_3().run(debug=1)"
   ]
  },
  {
   "cell_type": "markdown",
   "id": "892caecb",
   "metadata": {},
   "source": [
    "### PyRope Methods 7:  $~~~$ *hints*\n",
    "\n",
    "Mit dieser Methode kann eine Liste von Hinweistexten hinterlegt werden, die bei Bedarf nacheinander abgerufen werden können:"
   ]
  },
  {
   "cell_type": "code",
   "execution_count": 32,
   "id": "94dbd3ee",
   "metadata": {},
   "outputs": [
    {
     "data": {
      "application/vnd.jupyter.widget-view+json": {
       "model_id": "b58a6e25aede4a7fbfc62ab985a0604a",
       "version_major": 2,
       "version_minor": 0
      },
      "text/plain": [
       "Exercise(clear_debug_btn=Button(description='Clear Debug', style=ButtonStyle()), debug_output=DebugOutput(outp…"
      ]
     },
     "metadata": {},
     "output_type": "display_data"
    }
   ],
   "source": [
    "class QuadraticFunction_4(QuadraticFunction_2):\n",
    "    \n",
    "    ### hints\n",
    "    def hints(self):\n",
    "        return ['Alle Werte sind ganzzahlig!',\n",
    "                'Verwenden Sie zur Berechnung der Nullstellen die $\\\\rightarrow$ *pq-Formel*!',\n",
    "                'Der Abszissenwert des Scheitelpunktes ist immer der Mittelwert der Abszissen der Nullstellen!']\n",
    " \n",
    "QuadraticFunction_4().run(debug=0)"
   ]
  },
  {
   "cell_type": "markdown",
   "id": "050a5a0a",
   "metadata": {},
   "source": [
    "### PyRope Methods 8:  $~~~$ *feedback*\n",
    "\n",
    "Mittels der Methode *feedback* können die eingegebenen Lösungen verbal und/oder grafisch \n",
    "ausgewertet werden. Auch Links zu Web-Adressen sind möglich.\n",
    "\n",
    "Dafür erzeugen wir zunächst den Graphen unserer quadratischen Funktion mittels einer Klassen-externen Funktion *plotGraph*:"
   ]
  },
  {
   "cell_type": "code",
   "execution_count": 33,
   "id": "35887d46",
   "metadata": {},
   "outputs": [],
   "source": [
    "import numpy as np\n",
    "import matplotlib.pyplot as plt\n",
    "\n",
    "def plotGraph(f, nP, tp):\n",
    "    if len(nP) > 1:\n",
    "        [l, r] = [min(nP)-1, max(nP)+1.1]\n",
    "    else:\n",
    "        [l, r] = [round(tp[0], 1)-3, round(tp[0], 1)+3.1]\n",
    "    X = list(np.arange(l, r, .1))\n",
    "    Y = []\n",
    "    for xi in X:\n",
    "        Y.append (f.evalf(subs={x: xi}))\n",
    "    fig, axes = plt.subplots(figsize=(3, 3))\n",
    "    axes.set_aspect('auto')\n",
    "    plt.grid(True)\n",
    "    plt.plot(X,Y,'b')\n",
    "    plt.plot(tp[0], f.evalf(subs={x: tp[0]}), 'rs')\n",
    "    if len(nP) > 1:\n",
    "        plt.plot(nP, [f.evalf(subs={x: nP[0]}),f.evalf(subs={x: nP[1]})], 'go')\n",
    "    plt.title('Graph of f(x)', fontsize = 9)\n",
    "    return fig"
   ]
  },
  {
   "cell_type": "markdown",
   "id": "5d3047ce",
   "metadata": {},
   "source": [
    "Wir ergänzen das *return*-Dictionary von *parameters* um die Variable *plotF* für den Graphen und können diesen dann in *feedback* ausgeben:"
   ]
  },
  {
   "cell_type": "code",
   "execution_count": 39,
   "id": "84bb33db",
   "metadata": {},
   "outputs": [
    {
     "data": {
      "application/vnd.jupyter.widget-view+json": {
       "model_id": "c50b84860b7646998809ed2c6581a107",
       "version_major": 2,
       "version_minor": 0
      },
      "text/plain": [
       "Exercise(clear_debug_btn=Button(description='Clear Debug', style=ButtonStyle()), debug=True, debug_output=Debu…"
      ]
     },
     "metadata": {},
     "output_type": "display_data"
    }
   ],
   "source": [
    "class QuadraticFunction_5(QuadraticFunction_1):\n",
    "    \n",
    "    def parameters(self):\n",
    "        dict = QuadraticFunction_3().parameters()\n",
    "        dict.update({'plotF': plotGraph(dict['f'], dict['nst'], dict['sp'])})\n",
    "        return dict\n",
    "        \n",
    "    def problem(self):\n",
    "            return Problem (\n",
    "           'Bestimmen Sie die Nullstellen $N~([x_{01},~x_{02}],~[x_0]$ oder $~[])$ und den Scheitelpunkt $S=[x_s, y_s]$ '\n",
    "           'der quadratischen Funktion\\n\\n$~~~~~~~~f(x)=$ <<f>>\\n\\n'\n",
    "           'Geben Sie jeweils eine Liste ein, runden Sie auf mind. 3 NK-Stellen!\\n\\n'\n",
    "           '$ N = $ <<nst_>> $ ~~~~~~~~~~~~~~ S = $ <<sp_>>', \n",
    "           nst_ = Vector(atol = 0.0005),\n",
    "           sp_ = Vector(count=2, atol = 0.0005)\n",
    "           )\n",
    "\n",
    "    ### feedback\n",
    "    def feedback(self, nst, sp, nst_, sp_):\n",
    "        score = sum(list(self.scores(nst, sp, nst_, sp_).values()))\n",
    "        if score==3: fb = 'Super, alles richtig :-) !'\n",
    "        else: fb = 'Da hat leider nicht alles gestimmt :-( .$~~~~~$[Hier](https://studyflix.de/mathematik/parabel-formel-4204) '+\\\n",
    "            'finden Sie Hilfe zum Thema Quadratische Funktionen.'\n",
    "        return '<<plotF>>\\n\\n' + fb  \n",
    "    \n",
    "QuadraticFunction_5().run(debug=1)"
   ]
  },
  {
   "cell_type": "markdown",
   "id": "84bd614f",
   "metadata": {},
   "source": [
    "### PyRope Data Types\n",
    "\n",
    "*PyRope* stellt alle in Python verfügbaren Datentypen auch für die Inputfelder bereit.\\\n",
    "Die *PyRope*-interne Validierung bewirkt, dass nicht zum Datentyp passende Eingaben zurückgewiesen werden. "
   ]
  },
  {
   "cell_type": "code",
   "execution_count": 40,
   "id": "85661793-74d9-4c04-bd27-800ad2837750",
   "metadata": {},
   "outputs": [
    {
     "data": {
      "application/vnd.jupyter.widget-view+json": {
       "model_id": "70b2426d41dd4b5db78df9d311186494",
       "version_major": 2,
       "version_minor": 0
      },
      "text/plain": [
       "Exercise(clear_debug_btn=Button(description='Clear Debug', style=ButtonStyle()), debug_output=DebugOutput(outp…"
      ]
     },
     "metadata": {},
     "output_type": "display_data"
    }
   ],
   "source": [
    "class DemoDataTypes(Exercise):\n",
    "    \n",
    "    preamble = '**Probieren Sie!**'\n",
    "    \n",
    "    def problem(self):\n",
    "        return Problem('''\n",
    "        1 Bool as checkbox: <<F1>>\\\\\n",
    "        2 Bool as number: <<F2>>\\\\\n",
    "        3 Complex: <<F3>>\\\\\n",
    "        4 Dict: <<F4>>\\\\\n",
    "        5 Expression: <<F5>>\\\\\n",
    "        6 Equation: <<F6>>\\\\\n",
    "        7 Int: <<F7>>\\\\\n",
    "        8 Matrix: <<F8>>\\\\\n",
    "        9 Vector: <<F9>>\\\\\n",
    "        10 Natural: <<F10>>\\\\\n",
    "        11 OneOf3: <<F11>>\\\\\n",
    "        12 OneOf6: <<F12>>\\\\\n",
    "        13 Rational: <<F13>>\\\\\n",
    "        14 Real: <<F14>>\\\\\n",
    "        15 Set: <<F15>>\\\\\n",
    "        16 String: <<F16>>\\\\\n",
    "        17 Tuple: <<F17>>\\\\\n",
    "        18 List: <<F18>>\n",
    "        ''', \n",
    "        F1 =  Bool(), F2 = Bool(widget = Text(width = 2)), F3 =  Complex(), F4 = Dict(), F5 =  Expression(symbols = 'x, y, z'),\n",
    "        F6 =  Equation(symbols = 'x, y, z'), F7 = Int(), F8 =  Matrix(), F9 = Vector(), \n",
    "        F10 = Natural(), F11 =  OneOf(1,2,3), F12 =  OneOf('A','B','C','D','E','F'), F13 = Rational(elementwise=False),\n",
    "        F14 =  Real(), F15 =  Set(), F16 =  String(), F17 =  Tuple(), F18 =  List(),  \n",
    "        )\n",
    "\n",
    "    def scores(self):\n",
    "        return (0,0)\n",
    "    \n",
    "    def feedback(self,F1,F2,F3,F4,F5,F6,F7,F8,F9,F10,F11,F12,F13,F14,F15,F16,F17,F18):\n",
    "        F = [F1,F2,F3,F4,F5,F6,F7,F8,F9,F10,F11,F12,F13,F14,F15,F16,F17,F18]\n",
    "        fbList = '**Ihre Eingaben:**'\n",
    "        for i in range (len(F)):\n",
    "            if not F[i] is None:\n",
    "                fbList += f'''\\\\\n",
    "                F{i+1} = {F[i]}'''\n",
    "        return fbList\n",
    "\n",
    "DemoDataTypes().run()"
   ]
  },
  {
   "cell_type": "markdown",
   "id": "22a6af7b",
   "metadata": {},
   "source": [
    "### PyRope Widgets\n",
    "\n",
    "Mittels der *Widgets* können die Inputfelder gemäß den Erfordernissen der Aufgabenstellung gestaltet werden.\\\n",
    "*PyRope* stellt die  Inputfeld-Typen *Checkboxes, Dropdown, RadioButtons, Slider, Text und Textarea* zur Verfügung ."
   ]
  },
  {
   "cell_type": "code",
   "execution_count": 16,
   "id": "3cdaf4d8",
   "metadata": {},
   "outputs": [
    {
     "data": {
      "application/vnd.jupyter.widget-view+json": {
       "model_id": "d552e82843bd4c5b954ee214880f53fb",
       "version_major": 2,
       "version_minor": 0
      },
      "text/plain": [
       "Exercise(clear_debug_btn=Button(description='Clear Debug', style=ButtonStyle()), clear_inputs_btn=Button(descr…"
      ]
     },
     "metadata": {},
     "output_type": "display_data"
    }
   ],
   "source": [
    "D =  ['Kaffee', 'Tee', 'Wasser', 'Bier']\n",
    "L1 = [None,'English','Deutsch','Français']\n",
    "L2 = ['Your Language: ', 'Ihre Sprache: ','Votre Langue: ']\n",
    "P = ['Student', 'Associate', 'Professor']\n",
    "\n",
    "class DemoWidgets(Exercise):\n",
    "    \n",
    "    preamble = '**Probieren Sie!**'\n",
    "   \n",
    "    def problem(self):\n",
    "        return Problem('''\n",
    "        **Checkboxes**:\\\\\n",
    "        *Drinks:*$~~~$'''+'<<cb1>> '+ D[0] +' <<cb2>> '+ D[1] +' <<cb3>> '+ D[2] +' <<cb4>> '+ D[3]+\\\n",
    "        '''\n",
    "\n",
    "        **Dropdown**\\\\\n",
    "        *Language:*$~~~$<<dd>>\n",
    "        \n",
    "        **RadioButtons**\\\\\n",
    "        *Position:*$~~~$<<rb>>\n",
    "        \n",
    "        **Slider**\\\\\n",
    "        *Age:*$~~~$<<sl>>\n",
    "        \n",
    "        **Text**\\\\\n",
    "        *Name:*$~~~$<<t>>\n",
    "        \n",
    "        **TextArea**\\\\\n",
    "        *Comment:*$~~~$<<ta>>\n",
    "        ''',\n",
    "        cb1 = Bool(widget = Checkbox(description='Checkbox1')),\n",
    "        cb2 = Bool(widget = Checkbox(description='Checkbox2')),\n",
    "        cb3 = Bool(widget = Checkbox(description='Checkbox3')),\n",
    "        cb4 = Bool(widget = Checkbox(description='Checkbox4')),\n",
    "        dd = String(widget = Dropdown(L1[1], L1[2], L1[3], description='Dropdown')),\n",
    "        rb = String(widget = RadioButtons(P[0],P[1],P[2], description='RadioButton', vertical = False)),\n",
    "        sl = Int(widget = Slider(minimum = 10, maximum = 99, description='Slider', step=1, width=20)),\n",
    "        t = String(widget = Text(description='Text', placeholder='Textfeld Breite 30', width=30)),\n",
    "        ta = String(widget = TextArea(description='Textarea', placeholder='Zeile 1\\nZeile 2\\nZeile 3', width=40, height=3))\n",
    "        )\n",
    "    \n",
    "    def scores(self):\n",
    "        return (0,0)\n",
    "    \n",
    "    def feedback(self, cb1, cb2, cb3, cb4, dd, rb, sl, t, ta):\n",
    "        choices = [cb1, cb2, cb3, cb4]\n",
    "        drinks = '$~~'\n",
    "        for k in range (len(choices)):\n",
    "            if choices[k]:\n",
    "                drinks += D[k] + ',~'\n",
    "        drinks = drinks[:-2] + '$'\n",
    "        inp = [dd, rb, sl, t, ta]\n",
    "        for i in range(len(inp)):\n",
    "            if inp[i] is None: inp[i]=''\n",
    "        return f'''Your Drinks:  {drinks}\\\\\n",
    "        {L2[max(L1.index(dd),1) - 1]} $~~{inp[0]}$\\\\\n",
    "        Your Position: $~~{inp[1]}$\\\\\n",
    "        Your Age: $~~{inp[2]}$\\\\\n",
    "        Your Name $~~{inp[3]}$\\\\\n",
    "        Your Comment: $~~{inp[4]}$'''\n",
    "\n",
    "DemoWidgets().run()"
   ]
  },
  {
   "cell_type": "markdown",
   "id": "2a32c0b5-a7dd-4631-8bb2-0d5c0543fb1b",
   "metadata": {},
   "source": [
    "Zum Abschluss dieser Demo noch ein Beispiel für ein mit *PyRope* entwickeltes Programm, welches die Möglichkeiten dieses Systems in kompakter Form veranschaulicht:"
   ]
  },
  {
   "cell_type": "code",
   "execution_count": 41,
   "id": "b314c931-4d27-4e10-87a6-3098e8e9c061",
   "metadata": {},
   "outputs": [
    {
     "data": {
      "application/vnd.jupyter.widget-view+json": {
       "model_id": "8d4f71e376d74ca1b498ac18047946c3",
       "version_major": 2,
       "version_minor": 0
      },
      "text/plain": [
       "Exercise(clear_debug_btn=Button(description='Clear Debug', style=ButtonStyle()), debug=True, debug_output=Debu…"
      ]
     },
     "metadata": {},
     "output_type": "display_data"
    }
   ],
   "source": [
    "import numpy as np\n",
    "from sympy import Symbol, simplify, integrate, diff\n",
    "\n",
    "x = Symbol('x')\n",
    "\n",
    "#Polynom 3. Grades\n",
    "def polynomial3():\n",
    "    [p,q,r] = rd.sample(list(np.arange(-4, 5)), k=3)\n",
    "    a = 1\n",
    "    b = -p-q-r\n",
    "    c = p*q+p*r+q*r\n",
    "    d = -p*q*r\n",
    "    f = a*x**3 + b*x**2 + c*x + d\n",
    "    xi = int(-b/3/a)\n",
    "    xP = [xi, -1, 0, 2] #2 to avoid point symmetry problem \n",
    "    yP = [a*xi**3 + b*xi**2 + c*xi + d, -a+b-c+d, d,  8*a+4*b+2*c+d]\n",
    "    return  f, [xP, yP], {p,q,r}\n",
    "    \n",
    "def plotGraph(f, points):\n",
    "    if points[0][0] not in points[0][1:]: \n",
    "        points = [points[0][:-1], points[1][:-1]] #überflüssige Information entfernen\n",
    "    X = list(np.arange(np.min(points[0]) - 1.5, np.max(points[0]) + .2, .1))\n",
    "    Y = []\n",
    "    for xi in X:\n",
    "        Y.append (f.evalf(subs={x: xi}))\n",
    "    figure, ax = plt.subplots(figsize=(3, 3))\n",
    "    ax.set_aspect('auto')\n",
    "    ax.set_yticks(points[1], minor=False)\n",
    "    ax.yaxis.grid(True, which='major')\n",
    "    ax.set_xticks(points[0], minor=False)\n",
    "    ax.xaxis.grid(True, which='major')\n",
    "    plt.plot(X,Y,'b')\n",
    "    for i in range (len(points[0])):\n",
    "        plt.plot(points[0][i], points[1][i], 'go')\n",
    "    plt.plot(points[0][0], points[1][0], 'r', marker = 's')\n",
    "    plt.title('Graph of f(x)')\n",
    "    return figure\n",
    "\n",
    "class DemoPyRope(Exercise):\n",
    "\n",
    "    preamble = '***Demo PyRope***'\n",
    "\n",
    "    def parameters(self):\n",
    "        f, points, roots = polynomial3()\n",
    "        SF = integrate(f, x)\n",
    "        return {'f': f, 'points': points, 'rt': roots, 'SF': SF, 'fig': plotGraph(f, points)}\n",
    "    \n",
    "    def problem(self, f, points):\n",
    "        return Problem('''\n",
    "                <<fig>>\\n\\n\n",
    "                Find out the equation of polynomial of degree 3 shown in the diagram above.\\n\\n\n",
    "                $f(x) =$ <<f_>>\\n\\n\n",
    "                The roots of f(x) are: <<rt_>>$~~~~$ Insert a set!\\n\\n\n",
    "                An antiderivative of f(x) is: <<F_>>''',\n",
    "                f_ = Expression(symbols='x'),\n",
    "                rt_ = Set(widget=Text(width = 10)),\n",
    "                F_ = Expression(symbols='x', widget=Text(width = 30))\n",
    "                )\n",
    "    \n",
    "    def hints(self):\n",
    "        return ['All values at marked points are integers',\n",
    "                'The red square one is the inflection point',\n",
    "                'All roots are integers',\n",
    "                'The common antiderivative of $x^n$ is $\\\\frac{x^{n+1}}{n+1}+C$']\n",
    "\n",
    "    def a_solution(self, SF):\n",
    "        return {'F_': SF}\n",
    "\n",
    "    def scores(self, f_, rt_, F_, f, rt):\n",
    "        sc = [0,0,0]\n",
    "        if f_!=None: sc[0] = 4*(simplify(f_-f) == 0)\n",
    "        if rt_!=None:\n",
    "            roots = rt.copy()\n",
    "            for i in range(min(len(rt_), len(rt))):\n",
    "                if list(rt_)[i] in roots:\n",
    "                    sc[1] += 1\n",
    "                    roots.remove(list(rt_)[i])\n",
    "        if F_!=None: sc[2] = simplify(diff(F_)-f) == 0   \n",
    "        return {'f_': sc[0], 'rt_': sc[1], 'F_': sc[2]}\n",
    "        \n",
    "    def feedback(self, f_, rt_, F_, f, rt):\n",
    "        score = sum(self.scores(f_, rt_, F_, f, rt).values())\n",
    "        if score==8: return 'Great! Your solutions are completely correct.'\n",
    "        return 'There are errors in your solutions! Look [here](https://studyflix.de/mathematik/parabel-formel-4204) for help'\n",
    "\n",
    "DemoPyRope().run(debug = True)"
   ]
  },
  {
   "cell_type": "markdown",
   "id": "ab933155",
   "metadata": {},
   "source": [
    "Das FassMII-A-Team verabschiedet sich an dieser Stelle und hofft, dass Ihnen diese Demo einen ersten Einblick in das Potenzial von *PyRope* vermitteln konnte. Da sich *PyRope* im Entwicklungsstadium befindet, wird die Demo in regelmässigen Abständen an künftige Änderungen angepasst werden.\\\n",
    "Als Hilfestellung beim Einstieg in die Aufgabenentwicklung mit *PyRope* wurde ein Tutorial erstellt, welches ebenfalls sukzessive an den aktuellen Entwicklungsstand von *PyRope* angepasst wird."
   ]
  }
 ],
 "metadata": {
  "kernelspec": {
   "display_name": "Python 3 (ipykernel)",
   "language": "python",
   "name": "python3"
  },
  "language_info": {
   "codemirror_mode": {
    "name": "ipython",
    "version": 3
   },
   "file_extension": ".py",
   "mimetype": "text/x-python",
   "name": "python",
   "nbconvert_exporter": "python",
   "pygments_lexer": "ipython3",
   "version": "3.12.4"
  }
 },
 "nbformat": 4,
 "nbformat_minor": 5
}
