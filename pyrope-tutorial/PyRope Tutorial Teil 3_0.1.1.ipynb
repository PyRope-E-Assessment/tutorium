{
 "cells": [
  {
   "cell_type": "markdown",
   "id": "fff55ec5",
   "metadata": {},
   "source": [
    "## $\\LARGE{PyRope~Tutorial~Teil~3}$\n",
    "<img src =\"https://www.htwk-leipzig.de/fileadmin/_processed_/d/9/csm_logo_-PyRope_1a13e128d1.png\"  width=\"120\" style=\"position:absolute; top:12px; right:10px;\">\n",
    "\n",
    "## Solution-Methoden und Inputfelder\n",
    "1. Die *solution*-Methoden\n",
    "2. Datentypen für Inputfelder\n",
    "3. Widgets"
   ]
  },
  {
   "cell_type": "markdown",
   "id": "5f5fc5c7",
   "metadata": {},
   "source": [
    "#### Willkommen zum 3. Teil des Einführungskurses in das Assessment System *PyRope!*\n",
    "        \n",
    "In Teil 1 wurden die Varianten der *scores*-Methode zur Bewertung der Eingaben vorgestellt.\n",
    "Im dritten Teil dieses Tutorials lernen Sie zwei weitere Methoden, die Lösungen in PyRope zu hinterlegen, kennen.\n",
    "Ausserdem soll es um die vielfältigen Möglichkeiten zur Gestaltung der Inputfelder gehen.\n",
    "\n",
    "<u>Hinweis:</u>&ensp;**Zuerst bitte wieder** <span style=\"background-color: powderblue\"><i>Run > Run All Cells</i></span> **und dann die Zellen in der vorgegebenen Reihenfolge abarbeiten!**\n",
    "\n",
    "### 1. Die Solution-Methoden\n",
    "\n",
    "Betrachten wir zunächst folgende Aufgabe aus dem Gebiet Aussagenlogik:"
   ]
  },
  {
   "cell_type": "code",
   "execution_count": 20,
   "id": "f01b8095",
   "metadata": {
    "jupyter": {
     "source_hidden": true
    }
   },
   "outputs": [
    {
     "data": {
      "application/vnd.jupyter.widget-view+json": {
       "model_id": "b3d46091185e4ac094093aefea3f0fb9",
       "version_major": 2,
       "version_minor": 0
      },
      "text/plain": [
       "Exercise(clear_debug_btn=Button(description='Clear Debug', style=ButtonStyle()), debug=True, debug_output=Debu…"
      ]
     },
     "metadata": {},
     "output_type": "display_data"
    }
   ],
   "source": [
    "from pyrope import *\n",
    "\n",
    "import random as rd\n",
    "\n",
    "###################################################################\n",
    "### Function BlockTab: makes a Tab with border around each cell ###\n",
    "###################################################################\n",
    "# Give a list, containing one list of items for each line of the table or, alternativly,\n",
    "# all line text in one string, separated by commas\n",
    "def BlockTab(lines):\n",
    "    tabTxt = '<br><table style = \"margin-left: 0px\">'\n",
    "    for line in lines:\n",
    "        if type(line)==str:\n",
    "            line = line.split(',')\n",
    "        tabTxt += '<tr>'\n",
    "        for cell in line:\n",
    "            tabTxt += '<td style = \"border:1px solid black; background-color: white; text-align: center\">'+str(cell)+'</td>'\n",
    "        tabTxt += '</tr>'\n",
    "    tabTxt += '</table>\\n\\n'\n",
    "    return tabTxt\n",
    "\n",
    "logOps = ['\\\\neg', '\\\\land', '\\\\lor', '\\\\to', u'\\u22BB', u'\\u2194']\n",
    "ops = ['not', 'and', 'or', '<=', '!=', '==']\n",
    "\n",
    "#######################################################################\n",
    "### Function logFunc: Aufbau einer logischen Funktion aus n Binomen ###\n",
    "#######################################################################\n",
    "#Randomisierte Auswahl der Binomglieder aus len(vars) Variablen\n",
    "#Randomisierte Auswahl der Operatoren aus 5 Möglichkeiten\n",
    "#Randomisierte Verneinung vor den Binomen\n",
    "def logFunc(vars, n):\n",
    "    F = ''\n",
    "    no = ['','\\\\neg']\n",
    "    for i in range (n):\n",
    "        op = logOps[rd.randint(1, len(logOps)-1)]\n",
    "        V = vars.copy()\n",
    "        v1 = V[rd.randint(0,len(V)-1)]\n",
    "        V.remove(v1)\n",
    "        v2 = V[rd.randint(0,len(V)-1)]\n",
    "        f = no[rd.randint(0,1)] + '(' + v1 + ' ' + op + ' ' + v2 + ')'\n",
    "        op = logOps[(rd.randint(1, 2))]\n",
    "        F = (0<i<n-1)*'(' + F + f + (0<i<n-1)*')' + (i<n-1)*(' ' + op + ' ')\n",
    "    return F\n",
    "\n",
    "#Operator-Symbole durch wirksame Operatoren ersetzen\n",
    "def changeOps(F):\n",
    "    Fct = F\n",
    "    for op in logOps:\n",
    "        Fct = Fct.replace(op, ops[logOps.index(op)])\n",
    "    return Fct\n",
    "\n",
    "class Aufgabe1(Exercise):\n",
    "    \n",
    "    preamble = '**Logische Funktionen** - Musterlösung wird mittels Unterstrich-Konvention übergeben'\n",
    "    \n",
    "    def parameters(self):\n",
    "        vars = ['A', 'B']\n",
    "        F = logFunc(vars, 3)\n",
    "        Fct = changeOps(F)\n",
    "        #Erzeugen der möglichen Kombinationen der Variablenwerte:\n",
    "        sol = []\n",
    "        for m in range (2):\n",
    "            linSol = []\n",
    "            for n in range (2):\n",
    "                c = bin(2*m + n)[2:]\n",
    "                v = len(vars)*[0]\n",
    "                for i in range (len(c)):\n",
    "                    v[len(v)-1-i] = c[len(c)-1-i]\n",
    "                for i in range (len(v)):\n",
    "                    v[i] = int(v[i])\n",
    "                [A, B] = v\n",
    "                linSol.append(bool(eval(Fct)))\n",
    "            sol.append (linSol)\n",
    "        return {'F': F, 'sol': sol, 'sol00': sol[0][0], 'sol01': sol[0][1], 'sol10': sol[1][0], 'sol11': sol[1][1]}\n",
    "    \n",
    "    def problem(self):\n",
    "        iF = Bool(widget=Text(width = 5))\n",
    "        return  Problem (f'''\n",
    "        Gegeben ist die Funktion $F = <<F:latex>>$\\n\\n\n",
    "        Stellen Sie die  Wahrheitstafel dieser Funktion auf!\n",
    "        {BlockTab(['B\\\\A, 0, 1','0,<<sol00_>>,<<sol01_>>','1,<<sol10_>>,<<sol11_>>'])}''',\n",
    "        sol00_ = iF, sol01_ = iF, sol10_ = iF, sol11_ = iF\n",
    "        )\n",
    "        \n",
    "Aufgabe1().run(debug = 1)"
   ]
  },
  {
   "cell_type": "markdown",
   "id": "60489a5a",
   "metadata": {},
   "source": [
    "Die Lösungen wurden in diesem Beispiel einzeln übergeben. Es gibt für jedes Inputfeld eine eindeutige Lösung. Die Unterstrich-Konvention wurde eingehalten. Die scores-Methode muss somit nicht implementiert werden.\n",
    "\n",
    "**Die Methode *the_solution***\n",
    "\n",
    "Eine Alternative zur Implementierung der obigen Aufgabe bietet die Methode *the_solution*. Diese übergibt die Lösungen in Form eines *dictionary*\\\n",
    "Voraussetzung ist wieder, dass es für jedes Inputfeld eine eindeutige Lösung gibt. Es braucht aber hier nicht die Unterstrich-Konvention eingehalten werden. Das ermöglicht die Übergabe mehrerer Inputfelder unter einem gemeinsamen Namen - z.B. in Form einer Liste - durch die parameters-Methode:"
   ]
  },
  {
   "cell_type": "code",
   "execution_count": 2,
   "id": "f5dafec5",
   "metadata": {
    "jupyter": {
     "source_hidden": true
    }
   },
   "outputs": [
    {
     "data": {
      "application/vnd.jupyter.widget-view+json": {
       "model_id": "68234b3c0c5c4bc48408864e48e719d0",
       "version_major": 2,
       "version_minor": 0
      },
      "text/plain": [
       "Exercise(clear_debug_btn=Button(description='Clear Debug', style=ButtonStyle()), debug=True, debug_output=Debu…"
      ]
     },
     "metadata": {},
     "output_type": "display_data"
    }
   ],
   "source": [
    "class Aufgabe2(Aufgabe1):\n",
    "    \n",
    "    preamble = '**Logische Funktionen** - Eingabenbearbeitung mit der *the\\\\_solution*-Methode'\n",
    "    \n",
    "    def the_solution(self, sol):\n",
    "        return {'sol00_': sol[0][0], 'sol01_': sol[0][1], 'sol10_': sol[1][0], 'sol11_': sol[1][1]}\n",
    "    \n",
    "Aufgabe2().run(debug = 1)"
   ]
  },
  {
   "cell_type": "markdown",
   "id": "d423a0ed",
   "metadata": {},
   "source": [
    "<u>**Übung 1:**</u>\n",
    "\n",
    "Erstellen Sie mit *the\\_solution* die Bewertung der folgenden Aufgabe. Den zugehörigen Code finden Sie am Ende dieses Notebooks."
   ]
  },
  {
   "cell_type": "code",
   "execution_count": 3,
   "id": "a254061b",
   "metadata": {
    "jupyter": {
     "source_hidden": true
    },
    "scrolled": true
   },
   "outputs": [
    {
     "name": "stdout",
     "output_type": "stream",
     "text": [
      "\u001b[0;31mFirst run all cells !\n"
     ]
    }
   ],
   "source": [
    "try: Aufgabe3().run()\n",
    "except: print('\\033[0;31mFirst run all cells !') "
   ]
  },
  {
   "cell_type": "markdown",
   "id": "66d75060",
   "metadata": {},
   "source": [
    "**Die Methode *a_solution***\n",
    "\n",
    "Mit der Methode *a_solution* wird *PyRope* mitgeteilt, dass es mehr als eine richtige Lösung gibt. Eine *scores*-Methode ist dann zwingend erforderlich, um die Bewertung der verschiedenen möglichen Lösungen vorzunehmen."
   ]
  },
  {
   "cell_type": "code",
   "execution_count": 4,
   "id": "0d5bfd12",
   "metadata": {
    "jupyter": {
     "source_hidden": true
    }
   },
   "outputs": [
    {
     "data": {
      "application/vnd.jupyter.widget-view+json": {
       "model_id": "04e3ccbd76974d9082060cea4a16b9e5",
       "version_major": 2,
       "version_minor": 0
      },
      "text/plain": [
       "Exercise(clear_debug_btn=Button(description='Clear Debug', style=ButtonStyle()), debug=True, debug_output=Debu…"
      ]
     },
     "metadata": {},
     "output_type": "display_data"
    }
   ],
   "source": [
    "import numpy as np\n",
    "\n",
    "class Aufgabe4(Exercise):\n",
    "    \n",
    "    def parameters(self):\n",
    "        liste = list(np.arange(2,1000))\n",
    "        pz = []\n",
    "        while liste[0]**2 <= liste[-1]:\n",
    "            pz.append(liste[0])\n",
    "            liste =  [x for x in liste if x%liste[0] != 0]\n",
    "        pz = pz + liste\n",
    "        pzz = []\n",
    "        for n in pz:\n",
    "            if n+2 in pz:\n",
    "                pzz.append([n, n+2])\n",
    "        return {'pzz': pzz[4:]}\n",
    "    \n",
    "    def problem(self):\n",
    "        P = List(count = 2, widget=Text(width = 9))\n",
    "        return  Problem (\n",
    "        'Geben Sie 3 Primzahl-Zwillingspaare zwischen 20 und 1000 an!$ ~~~~$([z1, z2],...)\\n\\n'\n",
    "        '<<PZ1_>> $ ~~~~~$<<PZ2_>> $ ~~~~~$<<PZ3_>>',\n",
    "        PZ1_ = P, PZ2_ = P, PZ3_ = P\n",
    "        )\n",
    "    \n",
    "    def a_solution(self, pzz):\n",
    "        würfeln = rd.sample(pzz,3)\n",
    "        return {'PZ1_': würfeln[0], 'PZ2_': würfeln[1], 'PZ3_': würfeln[2]}\n",
    "    \n",
    "    def scores(self, pzz, PZ1_, PZ2_, PZ3_):\n",
    "        score = 0\n",
    "        pzz_ = [PZ1_]\n",
    "        for p in [PZ2_, PZ3_]:\n",
    "            if p not in pzz_: pzz_.append(p)\n",
    "        for p in pzz_:\n",
    "            score += (p in pzz)\n",
    "        return (score, 3)\n",
    "    \n",
    "Aufgabe4().run(debug = 1)"
   ]
  },
  {
   "cell_type": "markdown",
   "id": "04f396ad",
   "metadata": {},
   "source": [
    "Erläuterungen zum obigen Code:\n",
    "\n",
    "+ in *parameters* wird eine Liste aller möglichen Lösungen erstellt\n",
    "+ die Methode *a_solution* bewirkt, dass 3 mögliche Lösungen angezeigt werden\n",
    "+ die *scores*-Methode besorgt das Bewerten der Eingaben\n",
    "\n",
    "Beachten Sie, dass bei Verwendung der *a_solution*-Methode die Benennung der Inputfelder und zugehörigen\n",
    "Lösungsvariablen **nicht** der Unterstrich-Konvention folgen darf!\n",
    "\n",
    "<u>**Übung 2:**</u>\n",
    "\n",
    "Erstellen Sie mit *a\\_solution* und *scores* die Bewertung folgender Aufgabe\n",
    "(Code wieder am Ende des Notebooks):"
   ]
  },
  {
   "cell_type": "code",
   "execution_count": 5,
   "id": "05f0c016",
   "metadata": {
    "jupyter": {
     "source_hidden": true
    }
   },
   "outputs": [
    {
     "name": "stdout",
     "output_type": "stream",
     "text": [
      "\u001b[0;31mFirst run all cells !\n"
     ]
    }
   ],
   "source": [
    "try: Aufgabe5().run(debug = 1)\n",
    "except: print('\\033[0;31mFirst run all cells !') "
   ]
  },
  {
   "cell_type": "markdown",
   "id": "ff696f44",
   "metadata": {},
   "source": [
    "### 2.  Datentypen für Inputfelder\n",
    "\n",
    "In den vorangehenden Beispielaufgaben haben Sie bereits Inputfelder vom Typ *Int, Real, List, Bool und \n",
    "Expression* kennengelernt. *PyRope* stellt ausserdem die Typen *Complex, Dict, Equation, \n",
    "Matrix, Vector, Natural, OneOf, Rational, Set, String* und *Tuple* zur Verfügung und deckt \n",
    "damit alle bei mathematischen Aufgaben denkbaren Szenarien ab.\n",
    "In *PyRope* erfolgt eine Validierung der Eingaben entsprechend dem gewählten Typ. Ungültige Eingaben werden \n",
    "zurückgewiesen. Die folgenden Beispiele demonstrieren die Verwendung der genannten Typen:"
   ]
  },
  {
   "cell_type": "code",
   "execution_count": 6,
   "id": "ba896712",
   "metadata": {
    "jupyter": {
     "source_hidden": true
    }
   },
   "outputs": [
    {
     "data": {
      "application/vnd.jupyter.widget-view+json": {
       "model_id": "6332eea027b046a08072694552efa7bd",
       "version_major": 2,
       "version_minor": 0
      },
      "text/plain": [
       "Exercise(clear_debug_btn=Button(description='Clear Debug', style=ButtonStyle()), debug=True, debug_output=Debu…"
      ]
     },
     "metadata": {},
     "output_type": "display_data"
    }
   ],
   "source": [
    "from fractions import Fraction\n",
    "\n",
    "class Aufgabe6(Exercise):\n",
    "\n",
    "    preamble = '***Natural, Rational, Complex:***'\n",
    "    \n",
    "    def parameters(self):\n",
    "        [n1, n2] = [rd.randint(1,9), rd.randint(1,9)]\n",
    "        [R1, R2] = [rd.choice([1,2,3,6,7,9]), rd.choice([4,5,8])]\n",
    "        phi = rd.randint(2,6)\n",
    "        rad = rd.randint(2,9)\n",
    "        c = rad*np.e**(complex(0,phi))\n",
    "        C = complex(round(c.real, 3), round(c.imag, 3))\n",
    "        R = Fraction(R1,R2)\n",
    "        return {'n1': n1, 'n2': n2, 'N': n1+n2, 'r': R1/R2, 'R': R, 'R1': R1, 'R2': R2, 'phi': phi, 'rad': rad, 'C': C}\n",
    "    \n",
    "    def problem(self):\n",
    "        return  Problem ('''\n",
    "        $<<n1:latex>> + <<n2:latex>> = $ <<N_>>\\n\\n\n",
    "        Wandeln Sie den Dezimalbruch in einen gemeinen Bruch um: $<<r:latex>> =$ <<R_>>\\n\\n\n",
    "        Geben Sie die komplexe Zahl $ ~~ <<rad:latex>>e^{<<phi:latex>>i} ~ $ in algebraischer Form ein$ ~~~ $(Genauigkeit mind. 3 NK-Stellen):\n",
    "        <<C_>>''', \n",
    "        N_ = Int(widget = Text(width = 4)),\n",
    "        R_ = Rational(widget = Text(width = 4)),\n",
    "        C_ = Complex(widget = Text(width = 8))\n",
    "        )\n",
    "\n",
    "    def scores(self, N_, R_, C_, N, R, C):\n",
    "        score = int(N_== N) + (R_== R)\n",
    "        if C_ != None:\n",
    "            score += complex(round(C_.real, 3), round(C_.imag, 3)) == C\n",
    "        return (score, 3)\n",
    "    \n",
    "Aufgabe6().run(debug = 1)"
   ]
  },
  {
   "cell_type": "code",
   "execution_count": 7,
   "id": "b64cd7d1",
   "metadata": {
    "jupyter": {
     "source_hidden": true
    }
   },
   "outputs": [
    {
     "data": {
      "application/vnd.jupyter.widget-view+json": {
       "model_id": "92b6613223964f6baf36ce2829f48c77",
       "version_major": 2,
       "version_minor": 0
      },
      "text/plain": [
       "Exercise(clear_debug_btn=Button(description='Clear Debug', style=ButtonStyle()), debug=True, debug_output=Debu…"
      ]
     },
     "metadata": {},
     "output_type": "display_data"
    }
   ],
   "source": [
    "class Aufgabe7(Exercise):\n",
    "    \n",
    "    preamble = '***Bool:***'\n",
    "    \n",
    "    def parameters(self):\n",
    "        vars = ['A', 'B', 'C']\n",
    "        [A, B, C] = rd.choices([0, 1], k = len(vars))\n",
    "        FF = []; sol = []\n",
    "        for i in [1, 2]:\n",
    "            F = logFunc(vars, 3)\n",
    "            FF.append(F)\n",
    "            Fct = changeOps(F)\n",
    "            sol.append(eval(Fct))\n",
    "        res = sol[0] == sol[1]\n",
    "        F3 = logFunc(vars, 3)        \n",
    "        Fct = changeOps(F3)\n",
    "        sol = bool(eval(Fct))\n",
    "        return {'vals': [A, B, C], 'F1': FF[0], 'F2': FF[1], 'res': res, 'F3': F3, 'sol': sol}\n",
    "    \n",
    "    def problem(self):\n",
    "        return  Problem ('''\n",
    "        Bei diesem Inputfeldtyp haben Sie 2 Optionen:\\n\\n\n",
    "        + Inputfeld als Checkbox: $ ~~ $ <<CB_>> $ ~~~ $ wobei *checked* für *True* steht\n",
    "        + Inputfeld als Textfeld: $ ~~ $ <<TF_>> $ ~~~ $ mit der Möglichkeit zur Eingabe des Wahrheitwertes \n",
    "        entweder verbal (True, False, true, false) oder numerisch (0, 1)\\n\\n\n",
    "        Gegeben sind die logischen Variablen $~~~ [A, B, C] = <<vals:latex>>.$\\n\\n\n",
    "        Untersuchen Sie, ob die Wahrheitswerte der Funktionen\\n\\n\n",
    "        $F1 = <<F1:latex>>~~~~$und $~~~~$\n",
    "        $F2 = <<F2:latex>>~~~~$identisch sind!\\n\\n\n",
    "        **Identisch?** $~~~ $<<res_>>\\n\\n\n",
    "        Berechnen Sie den Wahrheitswert der Funktion $~~~F3 = <<F3:latex>>$\\n\\n\n",
    "        **Lösung**: $ ~~~$<<sol_>>''',\n",
    "        res_ = Bool(),\n",
    "        sol_ = Bool(widget = Text(width=5)),\n",
    "        CB_ = Bool (),\n",
    "        TF_ = Bool(widget = Text(width=5))\n",
    "        )\n",
    "    \n",
    "Aufgabe7().run(debug = 1)"
   ]
  },
  {
   "cell_type": "code",
   "execution_count": 8,
   "id": "7c6c44b7",
   "metadata": {
    "jupyter": {
     "source_hidden": true
    }
   },
   "outputs": [
    {
     "data": {
      "application/vnd.jupyter.widget-view+json": {
       "model_id": "71371953b2374ed8acf5f19cb490f272",
       "version_major": 2,
       "version_minor": 0
      },
      "text/plain": [
       "Exercise(clear_debug_btn=Button(description='Clear Debug', style=ButtonStyle()), debug=True, debug_output=Debu…"
      ]
     },
     "metadata": {},
     "output_type": "display_data"
    }
   ],
   "source": [
    "class Aufgabe8(Exercise):\n",
    "    \n",
    "    preamble = '***Set, Tuple, String:***'\n",
    "    \n",
    "    def parameters(self):\n",
    "        PZ = [2, 3, 5, 7, 11, 13, 17]\n",
    "        lim = [rd.randint(5, 17) ,rd.randint(5, 17)]\n",
    "        S = set(); T = ()\n",
    "        for pz in PZ:\n",
    "            if pz <= lim[0]: S.add(pz)\n",
    "            if pz <= lim[1]: T = T + (pz,)\n",
    "        days = ['Montag', 'Dienstag', 'Mittwoch', 'Donnerstag', 'Freitag', 'Sonnabend', 'Samstag', 'Sonntag']\n",
    "        return {'lim1': lim[0], 'S': S, 'lim2': lim[1], 'T': T, 'days': days}\n",
    "\n",
    "    def problem(self):\n",
    "        return  Problem ('''\n",
    "        Geben Sie die Menge aller Primzahlen $\\\\leqslant <<lim1:latex>>$ ein: <<S_>>\\n\\n\n",
    "        Geben Sie die Primzahlen $\\\\leqslant <<lim2:latex>>$ in aufsteigender Reihenfolge als Tupel ein: <<T_>>\\n\\n\n",
    "        Geben Sie einen Wochentag ein: <<Str_>>''', \n",
    "        S_ = Set(),\n",
    "        T_ = Tuple(),\n",
    "        Str_ = String()\n",
    "        )\n",
    "\n",
    "    def a_solution(self, days):\n",
    "        return {'Str_': rd.choice(days)}\n",
    "        \n",
    "    def scores(self, Str_, days):\n",
    "        return {'Str_': Str_ in days}\n",
    "    \n",
    "Aufgabe8().run(debug = 1)"
   ]
  },
  {
   "cell_type": "code",
   "execution_count": 9,
   "id": "3e14c934",
   "metadata": {
    "jupyter": {
     "source_hidden": true
    }
   },
   "outputs": [
    {
     "data": {
      "application/vnd.jupyter.widget-view+json": {
       "model_id": "4db57c13dd8a4260838c6db78611b8d2",
       "version_major": 2,
       "version_minor": 0
      },
      "text/plain": [
       "Exercise(clear_debug_btn=Button(description='Clear Debug', style=ButtonStyle()), debug=True, debug_output=Debu…"
      ]
     },
     "metadata": {},
     "output_type": "display_data"
    }
   ],
   "source": [
    "from sympy import symbols, Eq\n",
    "x, y = symbols('x y')\n",
    "\n",
    "class Aufgabe9(Exercise):   \n",
    "    \n",
    "    preamble = '***Dict, Equation, OneOf:***'\n",
    "    \n",
    "    def parameters(self):\n",
    "        coeff = []\n",
    "        for i in range (3):\n",
    "            coeff.append((-1)**rd.randint(0,1)*rd.randint(1,5))\n",
    "        [a,b,c] = coeff\n",
    "        if b**2/4/a**2 < c/a: O3 = 0\n",
    "        elif b**2/4/a**2 == c/a: O3 = 1\n",
    "        else: O3 = 2\n",
    "        s = -b/2/a\n",
    "        O6 = [round(s, 3), round(a*s**2 + b*s + c, 3)]\n",
    "        S = [str(O6)]\n",
    "        ch = list(np.arange(-3, 4))\n",
    "        while len(S) < 6:\n",
    "            alt = str([round(O6[0]+rd.choice(ch), 3), round(O6[1]+rd.choice(ch), 3)])\n",
    "            if alt not in S: S.append(alt)\n",
    "        S = rd.sample(S, len(S))\n",
    "        return {'a': a, 'b': b, 'c': c, 'D': dict(a=a, b=b, c=c), 'E': Eq(y, a*x**2 + b*x + c), 'O3': O3, 'O6': str(O6), 'S': S}\n",
    "\n",
    "    def problem(self, D, S):\n",
    "        [S1, S2, S3, S4, S5, S6] = S\n",
    "        return  Problem ('''\n",
    "        Geben Sie die Koeffizienten $~~~a = <<a:latex>>,~b = <<b:latex>>,~c = <<c:latex>>~~~$ einer quadratischen Funktion als dict ein: <<D_>>\\n\\n\n",
    "        Geben Sie die Funktionsgleichung dieser Funktion ein: <<E_>> $~~~~~$(y = a\\\\*x**2 + b\\\\*x + c)\\n\\n\n",
    "        Wie viele reelle Nullstellen hat diese Funktion: <<O3_>>\\n\\n\n",
    "        Der Scheitelpunkt der Funktion ist: <<O6_>>''', \n",
    "        D_ = Dict(count = 3),\n",
    "        E_ = Equation(symbols = 'x, y'),\n",
    "        O3_ = OneOf(0,1,2),\n",
    "        O6_=  OneOf(S1, S2, S3, S4, S5, S6),\n",
    "        )\n",
    "\n",
    "Aufgabe9().run(debug = 1)"
   ]
  },
  {
   "cell_type": "code",
   "execution_count": 10,
   "id": "b41c215b",
   "metadata": {
    "jupyter": {
     "source_hidden": true
    }
   },
   "outputs": [
    {
     "data": {
      "application/vnd.jupyter.widget-view+json": {
       "model_id": "bf2c3765a9f842dab737af807b388bad",
       "version_major": 2,
       "version_minor": 0
      },
      "text/plain": [
       "Exercise(clear_debug_btn=Button(description='Clear Debug', style=ButtonStyle()), debug=True, debug_output=Debu…"
      ]
     },
     "metadata": {},
     "output_type": "display_data"
    }
   ],
   "source": [
    "from sympy import Matrix as mtrx\n",
    "\n",
    "def roundM(M,nks):\n",
    "    for i in range(len(M)):\n",
    "        for j in range(len(M[i])):\n",
    "            M[i][j] = round(M[i][j], nks)\n",
    "    return M\n",
    "\n",
    "def mat3(M): #Matrix (3 x n), Elemente 1-stellig\n",
    "    z = []\n",
    "    for i in range (len(M)):\n",
    "        zi = ''\n",
    "        for j in range (len(M[i])):\n",
    "            zi += '~~~'*int((M[i][j]>=0)) + str(M[i][j]) + '~~~'\n",
    "        z.append(zi[:-3])\n",
    "    return '$\\\\Biggl($ $\\\\LARGE{^{^{}_{'+z[0]+'}}_{_{^{'+z[1]+'}_{'+z[2]+'}}} }$ $\\\\Biggl)$'\n",
    "\n",
    "\n",
    "class Aufgabe10(Exercise):\n",
    "      \n",
    "    preamble = '***Matrix, Vector:***'\n",
    "        \n",
    "    def parameters(self):\n",
    "        [EV1, EV2, EV3] = [[1,1,1]] + rd.sample([[1,1,0], [1,0,1], [0,1,1]], k=2)\n",
    "        ST = np.array([EV1, EV2, EV3])\n",
    "        S = ST.transpose()\n",
    "        S_inv = np.linalg.inv(S)\n",
    "        lList = [-3, -2, -1, 1, 2, 3]\n",
    "        lambd = [rd.choice(lList[:-2])]\n",
    "        lambd.append(rd.choice(lList[lList.index(lambd[-1])+1:-1]))\n",
    "        lambd.append(rd.choice(lList[lList.index(lambd[-1])+1:]))\n",
    "        D = [[lambd[0],0,0],[0,lambd[1],0],[0,0,lambd[2]]]\n",
    "        M = np.dot(S, np.dot(D, S_inv))\n",
    "        M_inv = roundM(np.linalg.inv(M), 3)\n",
    "        for i in range(3):\n",
    "            A = M.copy()\n",
    "            A[0][0] -= lambd[i]; A[1][1] -= lambd[i]; A[2][2] -= lambd[i]\n",
    "        w, v = np.linalg.eig(M)       \n",
    "        return {'M': mtrx(M.astype(int)), 'M_inv': M_inv, 'EV1': EV1, 'EV2': EV2, 'EV3': EV3, 'A':[[1,1],[1,1]]} #M.astype(int)\n",
    "\n",
    "    def problem(self, M, A):\n",
    "        V_ = Vector(count=3, widget = Text(width=8))\n",
    "        return  Problem ('''\n",
    "        Gegeben ist die Matrix $M =$ <<M>>\\n\\n \n",
    "        Berechnen Sie die inverse Matrix (Genauigkeit mind. 3 NK-Stellen) und die Eigenvektoren von M!\\n\\n\n",
    "        $M^{-1}$ = <<M_inv_>>\\n\\n\n",
    "        $EV1 =$ <<EV1_>> $~~~~~~EV2 =$ <<EV2_>> $~~~~~~EV3 =$ <<EV3_>>''', \n",
    "        M_inv_ = Matrix(nrows=3, ncols=3, atol = 0.0005, widget = Text(width = 60)),\n",
    "        EV1_ = V_, EV2_ = V_, EV3_ = V_\n",
    "        )\n",
    "\n",
    "    def scores(self, M_inv_, EV1_, EV2_, EV3_, M_inv, EV1, EV2, EV3):\n",
    "        res = (M_inv_ == M_inv)\n",
    "        try:\n",
    "            for i in range (3):\n",
    "                for j in range (3):\n",
    "                    if not res[i][j]: res[i][j] = round(M_inv_[i][j], 3)==M_inv[i][j]\n",
    "        except: pass\n",
    "        score = np.prod(res)\n",
    "        EV_ = [x for x in [EV1_, EV2_, EV3_] if x is not None]\n",
    "        EV = [EV1, EV2, EV3]\n",
    "        for v_ in EV_:\n",
    "            for v in EV:\n",
    "                if not np.cross(v_, v).any():\n",
    "                    score += 1\n",
    "                    EV.remove(v)\n",
    "        return score\n",
    "\n",
    "Aufgabe10().run(debug = 1)"
   ]
  },
  {
   "cell_type": "markdown",
   "id": "532a404e",
   "metadata": {},
   "source": [
    "<u>**Übung 3:**</u>\n",
    "\n",
    "Ordnen Sie den folgenden Ausrücken jeweils ein Inputfeld des passenden Typs zu!\n",
    "\n",
    "<u>Hinweis:</u> Wählen Sie im Fall mehrerer Möglichkeiten so, dass möglichst viele ungültige Eingaben schon bei der Validierung zurückgewiesen werden."
   ]
  },
  {
   "cell_type": "code",
   "execution_count": 11,
   "id": "ee413579",
   "metadata": {
    "jupyter": {
     "source_hidden": true
    }
   },
   "outputs": [
    {
     "name": "stdout",
     "output_type": "stream",
     "text": [
      "\u001b[0;31mFirst run all cells !\n"
     ]
    }
   ],
   "source": [
    "try: Aufgabe11().run(debug = 1)\n",
    "except: print('\\033[0;31mFirst run all cells !') "
   ]
  },
  {
   "cell_type": "markdown",
   "id": "b5c4e0e2",
   "metadata": {},
   "source": [
    "### 3. Widgets\n",
    "\n",
    "Die Widgets dienen der Gestaltung der Inputfelder, die in Abhängigkeit von der Aufgabenstellung Freitext-Eingabe entsprechend dem gewählten Variablentyp oder Auswahl aus mehreren Optionen ermöglichen.\n",
    "*PyRope* stellt dafür die Widgets *Text, Textarea, Checkbox, Dropdown, Radiobuttons* und *Slider* zur Verfügung.\n",
    "Die folgenden Beispiele sollen die Verwendung dieser Widgets und die Optionen zur Parameterübergabe veranschaulichen:"
   ]
  },
  {
   "cell_type": "code",
   "execution_count": 12,
   "id": "3fe9d207",
   "metadata": {
    "jupyter": {
     "source_hidden": true
    }
   },
   "outputs": [
    {
     "data": {
      "application/vnd.jupyter.widget-view+json": {
       "model_id": "6ca2f314859c427381dee74b39380520",
       "version_major": 2,
       "version_minor": 0
      },
      "text/plain": [
       "Exercise(clear_debug_btn=Button(description='Clear Debug', style=ButtonStyle()), debug_output=DebugOutput(outp…"
      ]
     },
     "metadata": {},
     "output_type": "display_data"
    }
   ],
   "source": [
    "class Aufgabe12(Exercise):\n",
    "      \n",
    "    preamble = '***Text, Textarea:***'\n",
    "    \n",
    "    def problem(self):\n",
    "        return Problem('''\n",
    "        Inputfelder werden in *PyRope* standardmässig als *Text*-Felder interpretiert, diese müssen daher nicht \n",
    "        per *widget*-Option als solche deklariert werden. \\nDie Option kann jedoch verwendet werden, um die Breite \n",
    "        eines Inputfeldes abweichend vom Standard (20 Zeichen) festzulegen:\\n\\n<<t>>\\n\\n\n",
    "        Beim *Textarea*-Feld kann zusätzlich auch noch eine Höhe (in Zeilen) vorgegeben werden, um so mehrzeilige \n",
    "        Eingaben zu ermöglichen. Dieses Feld kann auch während der Eingabe noch erweitert werden:\\n\\n<<ta>>\\n\\n''',\n",
    "        t = String(widget = Text(description='Widget Text', placeholder='10 Zeichen', width=10)),\n",
    "        ta = String(widget = TextArea(description='Widget Textarea', placeholder='TextArea width=40, height=5', width=40, height=5))\n",
    "        )\n",
    "    \n",
    "    def feedback(self):\n",
    "        return '**Ihre Eingaben:**\\n\\n*Text:* $~~<<t:latex>>$\\n\\n*Textarea:* $~~<<ta:latex>>$'\n",
    "    \n",
    "    def scores(self):\n",
    "        return (0,0)\n",
    "    \n",
    "Aufgabe12().run()"
   ]
  },
  {
   "cell_type": "code",
   "execution_count": 13,
   "id": "34d4b216",
   "metadata": {
    "jupyter": {
     "source_hidden": true
    }
   },
   "outputs": [
    {
     "data": {
      "application/vnd.jupyter.widget-view+json": {
       "model_id": "0552ea1ac1f34cf38ebc244aa2d5d530",
       "version_major": 2,
       "version_minor": 0
      },
      "text/plain": [
       "Exercise(clear_debug_btn=Button(description='Clear Debug', style=ButtonStyle()), debug=True, debug_output=Debu…"
      ]
     },
     "metadata": {},
     "output_type": "display_data"
    }
   ],
   "source": [
    "import numpy as np\n",
    "\n",
    "class Aufgabe13(Exercise):\n",
    "    \n",
    "    preamble = '***Dropdown, Radiobuttons:***'\n",
    "    \n",
    "    def parameters(self):\n",
    "        P = [(-1)**rd.randint(0,1)*rd.randint(1, 4), rd.randint(-4, 4)]\n",
    "        V = rd.choice([[-2, -1], [2, 1], [-1, -2], [1, 2], [-2, 1], [2, -1], [-1, 2], [1, -2]])\n",
    "        m = [V[1]/V[0], -V[1]/V[0], V[0]/V[1], -V[0]/V[1]]*2\n",
    "        n = [P[1] - P[0]*V[1]/V[0]]*4 + [-P[1] + P[0]*V[1]/V[0]]*4\n",
    "        g = []\n",
    "        for i in range(len(m)):\n",
    "            g.append('y = '+str(m[i])+' * x '+ int(np.sign(n[i])>=0)*'+'+ str(n[i]))\n",
    "        a = 10**rd.randint(-4, -2)\n",
    "        b = 10**rd.randint(-7, -5)\n",
    "        return {'P': P, 'p0': P[0], 'p1': P[1], 'V': V, 'v0': V[0], 'v1': V[1], 'g': g, 'dd': g[0], 'a': a, 'b': b, 'rb': round(a/b)}\n",
    "    \n",
    "    def problem(self, P, V, g, rb):\n",
    "        [g1, g2, g3, g4, g5, g6, g7, g8] = rd.sample(g, k=8)\n",
    "        p = rd.sample([-2, -1, 1, 2], k=2)\n",
    "        [q1, q2, q3] = rd.sample([rb, int(rb*10**p[0]), rb*10**p[1]], k=3)\n",
    "        PV = P+V\n",
    "        fill = ['']*4\n",
    "        for k in [0, 2]:\n",
    "            if PV[k] < 0 and PV[k+1] >= 0: fill[k+1] = '~~~'\n",
    "            elif PV[k] > 0 and PV[k+1] < 0: fill[k] =  '~~~'\n",
    "        return Problem(\n",
    "        '$\\\\large{(}^x_y\\\\large{)}=\\\\large{(}^{'+fill[0]+'<<p0:latex>>}_{'+fill[1]+'<<p1:latex>>}\\\\large{)}'\n",
    "        '+ s \\\\cdot \\\\large{(}^{'+fill[2]+'<<v0:latex>>}_{'+fill[3]+'<<v1:latex>>}\\\\large{)}~~~~$'\n",
    "        'ist die Parameterform der Geraden: <<dd_>>\\n\\n'\n",
    "        'Bilden Sie den Quotienten:\\n\\n$\\\\large{\\\\frac{<<a:latex>>}{<<b:latex>>}}=~~$ <<rb_>>',\n",
    "        dd_ = Equation(symbols = 'x, y',widget = Dropdown(g1,g2,g3,g4,g5,g6,g7,g8, description='Widget Dropdown')),\n",
    "        rb_ = Int(widget = RadioButtons(q1, q2, q3, description='Widget RadioButtons', vertical = False))\n",
    "        )\n",
    "    \n",
    "Aufgabe13().run(debug = 1)"
   ]
  },
  {
   "cell_type": "code",
   "execution_count": 14,
   "id": "955fafc5",
   "metadata": {
    "jupyter": {
     "source_hidden": true
    }
   },
   "outputs": [
    {
     "data": {
      "application/vnd.jupyter.widget-view+json": {
       "model_id": "daac3652a62f4e89aacc43c2b4940a6b",
       "version_major": 2,
       "version_minor": 0
      },
      "text/plain": [
       "Exercise(clear_debug_btn=Button(description='Clear Debug', style=ButtonStyle()), debug=True, debug_output=Debu…"
      ]
     },
     "metadata": {},
     "output_type": "display_data"
    }
   ],
   "source": [
    "class Aufgabe14(Exercise):\n",
    "    \n",
    "    preamble = '***Checkbox, Slider:***'\n",
    "    \n",
    "    def parameters(self):\n",
    "        a = rd.choice([True, False])\n",
    "        b = rd.choice([True, False])\n",
    "        cb = [a and b, a or b, a <= b, a==b]\n",
    "        p = rd.randint(1,9)*10\n",
    "        gw = rd.randint(1,9)*10\n",
    "        return {'a': a, 'b': b, 'cb1': cb[0], 'cb2': cb[1],  'cb3': cb[2],  'cb4': cb[3], 'p': p, 'gw': gw, 'sl': int(p/100*gw)}\n",
    "    \n",
    "    def problem(self):\n",
    "        return Problem('''\n",
    "        Gegeben sind die logischen Variablen A und B mit $A = <<a:latex>>$ und $B = <<b:latex>>.~~$ \n",
    "        Entscheiden Sie, welche der folgenden logischen Ausdrücke wahr sind:\\n\\n\n",
    "        <<cb1_>> $A \\\\land B$\\n\\n\n",
    "        <<cb2_>> $A \\\\lor B$\\n\\n\n",
    "        <<cb3_>> $A \\\\to B$\\n\\n\n",
    "        <<cb4_>> $A \\u2194 B$\n",
    "        <br><br>$<<p:latex>>$ Prozent von $<<gw:latex>>$ kg sind:\\n<<sl_>> kg''',\n",
    "        cb1_ = Bool(widget = Checkbox(description='Widget Checkbox1')),\n",
    "        cb2_ = Bool(widget = Checkbox(description='Widget Checkbox2')),\n",
    "        cb3_ = Bool(widget = Checkbox(description='Widget Checkbox3')),\n",
    "        cb4_ = Bool(widget = Checkbox(description='Widget Checkbox4')),\n",
    "        sl_ = Int(widget = Slider(minimum = 0, maximum = 100, description='Widget Slider', step=1, width=40))\n",
    "        )\n",
    "    \n",
    "Aufgabe14().run(debug = 1)"
   ]
  },
  {
   "cell_type": "markdown",
   "id": "0e3090f3",
   "metadata": {},
   "source": [
    "<u>**Übung 4:**</u>\n",
    "\n",
    "Erstellen Sie je ein Inputfeld, das zu folgenden Aufgaben passt!\\\n",
    "Für die Auswahl eines passenden Widgets gibt es natürlich in den meisten Fällen mehrere Möglichkeiten. Eine mögliche Umsetzung sehen Sie unten."
   ]
  },
  {
   "cell_type": "code",
   "execution_count": 15,
   "id": "77545526",
   "metadata": {
    "jupyter": {
     "source_hidden": true
    }
   },
   "outputs": [
    {
     "name": "stdout",
     "output_type": "stream",
     "text": [
      "\u001b[0;31mFirst run all cells !\n"
     ]
    }
   ],
   "source": [
    "try: Aufgabe15().run(debug = 1)\n",
    "except: print('\\033[0;31mFirst run all cells !') "
   ]
  },
  {
   "cell_type": "markdown",
   "id": "4f3f5e8a",
   "metadata": {},
   "source": [
    "In diesem dritten und letzten Teil des *PyRope*-Tutorials haben Sie weitere Optionen zur Bereitstellung der Lösungen und Bewertung der Eingaben sowie die gesamte Palette der Datentypen und Widgets zur Gestaltung der Inputfelder kennengelernt. Damit haben Sie nun die Möglichkeit entweder\n",
    "+ selbst via freier Programmierung in Python Aufgaben zu entwickeln, die Ihren Vorlesungsinhalten angepasst sind und \n",
    "als begleitende Übungsaufgaben oder auch für Tests und Prüfungen verwendet werden können, oder\n",
    "+ Codebausteine für die unverzichtbaren Bestandteile (Methoden) zu Aufgaben zusammenzustellen, \n",
    "die Sie\n",
    "    + aus den zahlreichen in den 3 Teilen dieses Tutorials hinterlegten Beispielen oder \n",
    "    + aus dem parallel zur *PyRope*-Entwicklung im Aufbau befindlichen Aufgabenpool\n",
    "entnehmen und entsprechend Ihren Erfordernissen variieren und weiterentwickeln können.\n",
    "\n",
    "Sie können hierbei auf die verschiedenen von *PyRope* zur Verfügung gestellten \n",
    "Varianten zur Lösungsbewertung wie die *Unterstrich-Konvention* (s. Teil 1) oder eine \n",
    "geeignete *scores*- oder *solution*-Methode zurückgreifen und dadurch Ihren eigenen Programmieraufwand gering halten.\n",
    "\n",
    "Bitte beachten Sie, dass *PyRope* während der verbleibenden Projektlaufzeit permanent weiterentwickelt wird. Dementsprechend wird auch dieses Tutorial in regelmässigen Abständen an den jeweils aktuellen Entwicklungsstand angepasst werden.\n",
    "\n",
    "Wir, das FassMII-A-Team, würden uns freuen, wenn Sie als potenzielle Aufgabenentwickler sich in nächster Zeit mit den Möglichkeiten von *PyRope* vertraut machen und im Idealfall bereits erste Erfahrungen in der Anwendung sammeln könnten.\n",
    "\n",
    "Über Feedback, Anregungen, Verbesserungsvorschläge, die uns helfen, das System in punkto Praxistauglichkeit und Anwenderfreundlichkeit weiterzuentwickeln, würden wir uns ebenfalls sehr freuen.\n",
    "\n",
    "Viel Spaß beim Erkunden wünscht\n",
    "\n",
    "Ihr FassMII-A-Team!"
   ]
  },
  {
   "cell_type": "markdown",
   "id": "3a1adb2e",
   "metadata": {},
   "source": [
    "##### Der Code zur Übung 1:"
   ]
  },
  {
   "cell_type": "code",
   "execution_count": 16,
   "id": "c38fd66e",
   "metadata": {
    "jupyter": {
     "source_hidden": true
    }
   },
   "outputs": [],
   "source": [
    "from pyrope import *\n",
    "\n",
    "class Aufgabe3(Exercise):\n",
    "    \n",
    "    preamble = '**Vektorrechnung 1**'\n",
    "\n",
    "    def parameters(self):\n",
    "        p = []\n",
    "        for i in range (4):\n",
    "            p.append(rd.randint(-9,9))\n",
    "        return {'a': p[:2], 'b': p[2:], 'v': [p[2]-p[0], p[3]-p[1]]}\n",
    "    \n",
    "    def problem(self, v):\n",
    "        return  Problem (\n",
    "        'Gegeben sind die Punkte $A=$ <<a>> und $B=$ <<b>>. Bestimmen Sie den Vektor $\\\\overrightarrow{AB}$ !\\n\\n'\n",
    "        '$\\\\overrightarrow{AB}$ = <<V>>',\n",
    "        V = Vector(count = 2, widget=Text(width = 8))\n",
    "        )\n",
    "        \n",
    "    def the_solution(self, v):\n",
    "        return {'V': v}"
   ]
  },
  {
   "cell_type": "markdown",
   "id": "9641f669",
   "metadata": {},
   "source": [
    "##### Der Code zur Übung 2:"
   ]
  },
  {
   "cell_type": "code",
   "execution_count": 17,
   "id": "3b23b0f8",
   "metadata": {
    "jupyter": {
     "source_hidden": true
    }
   },
   "outputs": [],
   "source": [
    "class Aufgabe5(Exercise):\n",
    "\n",
    "    preamble = '**Vektorrechnung 2**'\n",
    "    \n",
    "    def parameters(self):\n",
    "        p = []\n",
    "        for i in range (4):\n",
    "            p.append(rd.randint(-9,9))\n",
    "        return {'a': p[:2], 'b': p[2:], 'v': [p[2]-p[0], p[3]-p[1]]}\n",
    "    \n",
    "    def problem(self, v):\n",
    "        return  Problem (\n",
    "        'Gegeben sind die Punkte $A=$ <<a>> und $B=$ <<b>>. Geben Sie einen zu $\\\\overrightarrow{AB}$ '\n",
    "        'orthogonalen Vektor V an! \\n\\n$V=$ <<V_>>',\n",
    "        V_ = Vector(count = 2, widget=Text(width = 8))\n",
    "        )\n",
    "        \n",
    "    def a_solution(self, v):\n",
    "        return {'V_': [-v[1], v[0]]}\n",
    "    \n",
    "    def scores(self, V_, v):\n",
    "        try:\n",
    "            if len(V_)==2:\n",
    "                return int(np.dot(V_,v)==0)\n",
    "        except:\n",
    "            return 0"
   ]
  },
  {
   "cell_type": "markdown",
   "id": "399e440d",
   "metadata": {},
   "source": [
    "##### Der Code zur Übung 3:"
   ]
  },
  {
   "cell_type": "code",
   "execution_count": 18,
   "id": "90128a6c",
   "metadata": {
    "jupyter": {
     "source_hidden": true
    }
   },
   "outputs": [],
   "source": [
    "class Aufgabe11(Exercise):\n",
    "\n",
    "    preamble = '**Inputfeld-Typen**'\n",
    "    \n",
    "    def parameters(self):\n",
    "        types = ['Bool','Complex','Dict','Equation','Expression','Int','List','Matrix','Natural','Rational','Real','Set','String','Tuple','Vector']\n",
    "        IF = [True, (1+2j), \"\\\\{'A': 3,~'B': 7\\\\}\", \n",
    "              '5x + 2 = 7', '3x^2 + 4x + 1', -12, \n",
    "              [1, 2, 3], [[1, 0],[3, 7], [4,2]], 3, \n",
    "              '3/17', 0.234, '\\\\{3, 5, 7\\\\}', \n",
    "              \"'Hallo'\", (9, 1, 7), [[1], [2], [3]]\n",
    "             ]\n",
    "        [IF1, IF2, IF3] = rd.sample(IF, k=3)\n",
    "        t = [types[IF.index(IF1)], types[IF.index(IF2)], types[IF.index(IF3)]]\n",
    "        return {'IF1': IF1, 'IF2': IF2, 'IF3': IF3, 'F1': t[0], 'F2': t[1], 'F3': t[2]}\n",
    "\n",
    "    def problem(self):\n",
    "        return Problem(\n",
    "        'F1: $~~<<IF1:latex>> ~~~$ <<F1_>>\\n\\n'\n",
    "        'F2: $~~<<IF2:latex>> ~~~$ <<F2_>>\\n\\n'\n",
    "        'F3: $~~<<IF3:latex>> ~~~$ <<F3_>>',\n",
    "        F1_ = String(),\n",
    "        F2_ = String(),\n",
    "        F3_ = String()\n",
    "        )"
   ]
  },
  {
   "cell_type": "markdown",
   "id": "497a8452",
   "metadata": {},
   "source": [
    "##### Der Code zur Übung 4:"
   ]
  },
  {
   "cell_type": "code",
   "execution_count": 19,
   "id": "48270d7b",
   "metadata": {
    "jupyter": {
     "source_hidden": true
    }
   },
   "outputs": [],
   "source": [
    "import random as rd\n",
    "import numpy as np\n",
    "from numpy.linalg import norm\n",
    "from sympy import symbols, Eq\n",
    "\n",
    "x, y, z = symbols('x y z')\n",
    "\n",
    "def isIn(P, Obj):\n",
    "    if len(Obj)==2: #Gerade\n",
    "        return (P[0]-Obj[0][0])/Obj[1][0] == (P[1]-Obj[0][1])/Obj[1][1] == (P[2]-Obj[0][2])/Obj[1][2]\n",
    "    elif len(Obj)==3: #Ebene\n",
    "        N = np.cross(Obj[1], Obj[2]) #Normalenvektor\n",
    "        return np.dot(P,N) == np.dot(Obj[0],N)\n",
    "    \n",
    "\n",
    "class Aufgabe15(Exercise):\n",
    "\n",
    "    preamble ='**Widgets**'\n",
    "    \n",
    "    def parameters(self):\n",
    "        V = []\n",
    "        for i in range (8):\n",
    "            V.append([rd.randint(1,3), rd.randint(1,3), rd.randint(1,3)])\n",
    "        if not np.cross(V[6], V[7]).any(): V[7][rd.randint(0,2)] = 0 #Nullvektor vermeiden\n",
    "        N = np.cross(V[6], V[7])\n",
    "        coeff = list(N) + [np.dot(N, V[5])]\n",
    "        E = []\n",
    "        v = ['x', 'y', 'z']\n",
    "        for i in range (4):\n",
    "            Ei = ' = '+str(coeff[3])\n",
    "            for i in range (2,-1,-1):\n",
    "                Ei = int(coeff[i]!=0)*(int(np.sign(coeff[i])>=0)*'+'\n",
    "                    + int(abs(coeff[i])!=1)*(str(coeff[i])+'*')\n",
    "                    + int(coeff[i]==-1)*'-'\n",
    "                    + v[i]) + Ei\n",
    "            if Ei[0]=='+': Ei = Ei[1:]\n",
    "            E.append(Ei)\n",
    "            coeff = rd.sample(coeff, k=4); coeff[rd.randint(0,3)]+=1\n",
    "        dd = E[0]\n",
    "        E = rd.sample(E, k=len(E))\n",
    "        #Lagebeziehungen g1, E:\n",
    "        RB = ['schneidet die Ebene E in genau einem Punkt', 'verläuft (echt) parallel zur Ebene E', 'liegt in der Ebene E']\n",
    "        Lage = int(np.dot(N, V[1]) == 0) #Lage==0 --> Schnittpunkt\n",
    "        if Lage == 1:\n",
    "            if np.dot(V[0], N)==np.dot(V[5], N): Lage+=1 #g1 liegt in E\n",
    "        #Lagebeziehungen P, g1, g2, E Häufigkeit anpassen\n",
    "        P1 = [V[0][i]+V[1][i] for i in range(3)] #auf g1\n",
    "        P2 = [V[2][i]+V[3][i] for i in range(3)] #auf g2\n",
    "        P3 = [V[5][i]+V[6][i]+V[7][i] for i in range(3)] #in E\n",
    "        V[4] = rd.choice([V[4], P1, P2, P3]) #P\n",
    "        Obj = [[V[0], V[1]], [V[2], V[3]], [V[5], V[6], V[7]]] #g1, g2, E\n",
    "        [cb1, cb2, cb3] = [isIn(V[4], Obj[0]), isIn(V[4], Obj[1]), isIn(V[4], Obj[2])]\n",
    "        sl = round(np.arccos(min(1, np.dot(V[1],V[3])/(norm(V[1])*norm(V[3]))))*180/np.pi)\n",
    "        return {'V': V, 't': 'Parameterform', 'E': E, 'dd': dd, 'RB': RB, 'rb': RB[Lage], 'cb1' : cb1, 'cb2' : cb2, 'cb3' : cb3, 'sl': sl}    \n",
    "\n",
    "    def problem(self, V, RB, E, dd):\n",
    "        text  = [\n",
    "          'Wie nennt man die obige Form der Darstellung der Ebene? ', #t\n",
    "          'Die parameterfreie Ebenengleichung von $E$ lautet: ', #dd\n",
    "          'Die Gerade $g_1$...\\n\\n', #rb\n",
    "          '\\n\\nEntscheiden Sie, welche dieser Aussagen zutreffen: $ ~~~$Der Punkt $P$ liegt...\\n\\n', #cb\n",
    "          'Der Winkel im Gradmaß zwischen den Richtungsvektoren von $g_1$ und $g_2$ beträgt (gerundet auf ganze Zahlen):' #sl\n",
    "          ]\n",
    "        [e1,e2,e3,e4] = E\n",
    "        def pt(x,y,z): #Punkt 3-dim\n",
    "            return '$(~'+str(x)+',~'+str(y)+',~'+str(z)+'~)$'\n",
    "        def vec3(x,y,z): #Spaltenvektor 3-dim\n",
    "            return '$\\\\Biggl(\\\\begin{matrix}~'+str(x)+'~\\\\\\\\'+str(y)+'\\\\\\\\'+str(z)+'\\\\end{matrix}\\\\Biggl)$'\n",
    "        return Problem(\n",
    "        'Gegeben sind die Geraden '\n",
    "        '$~~~g_1:~~$'+vec3('x','y','z')+'$=$'+vec3(V[0][0],V[0][1],V[0][2])+'$+r \\\\cdot $'+vec3(V[1][0],V[1][1],V[1][2])+\n",
    "        '$~~~~~~g_2:~~$'+vec3('x','y','z')+'$=$'+vec3(V[2][0],V[2][1],V[2][2])+'$+r \\\\cdot $'+vec3(V[3][0],V[3][1],V[3][2])+'\\n\\n'\n",
    "        'der Punkt $P:~~$'+pt('x','y','z')+'$=$'+pt(V[4][0],V[4][1],V[4][2])+'$ ~~~~~~$ '\n",
    "        'und die Ebene $E:~~$'+vec3('x','y','z')+'$=$'+vec3(V[5][0],V[5][1],V[5][2])+'$+s \\\\cdot $'\n",
    "        + vec3(V[6][0],V[6][1],V[6][2])+'$+t \\\\cdot $'+vec3(V[7][0],V[7][1],V[7][2])+'\\n\\n'\n",
    "        + text[0] + '<<t_>>\\n\\n'\n",
    "        + text[1] + '<<dd_>>\\n\\n'\n",
    "        + text[2] + '<<rb_>>' \n",
    "        + text[3] + '<<cb1_>> auf der Geraden $g_1$\\n\\n<<cb2_>>auf der Geraden $g_2$\\n\\n<<cb3_>> in der Ebene $E$\\n\\n' \n",
    "        + text[4] + '<<sl_>>',\n",
    "        t_ = String(widget = Text(width=20)),\n",
    "        dd_ = String(widget = Dropdown(e1,e2,e3,e4)),\n",
    "        rb_ = String(widget = RadioButtons (RB[0], RB[1], RB[2])),\n",
    "        cb1_ = Bool(widget = Checkbox()),\n",
    "        cb2_ = Bool(widget = Checkbox()),\n",
    "        cb3_ = Bool(widget = Checkbox()),\n",
    "        sl_ = Int(widget = Slider(minimum = 0, maximum = 180, step=1, width=90))\n",
    "        )"
   ]
  },
  {
   "cell_type": "code",
   "execution_count": null,
   "id": "3a684516-672a-4943-8422-0d13305cf107",
   "metadata": {
    "jupyter": {
     "source_hidden": true
    }
   },
   "outputs": [],
   "source": []
  }
 ],
 "metadata": {
  "kernelspec": {
   "display_name": "Python 3 (ipykernel)",
   "language": "python",
   "name": "python3"
  },
  "language_info": {
   "codemirror_mode": {
    "name": "ipython",
    "version": 3
   },
   "file_extension": ".py",
   "mimetype": "text/x-python",
   "name": "python",
   "nbconvert_exporter": "python",
   "pygments_lexer": "ipython3",
   "version": "3.12.4"
  }
 },
 "nbformat": 4,
 "nbformat_minor": 5
}
