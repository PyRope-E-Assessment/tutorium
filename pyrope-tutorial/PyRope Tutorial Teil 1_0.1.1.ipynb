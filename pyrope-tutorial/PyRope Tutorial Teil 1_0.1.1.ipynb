{
 "cells": [
  {
   "cell_type": "markdown",
   "id": "544b4c52",
   "metadata": {},
   "source": [
    "## $\\LARGE{PyRope~Tutorial~Teil~1}$\n",
    "<img src =\"https://www.htwk-leipzig.de/fileadmin/_processed_/d/9/csm_logo_-PyRope_1a13e128d1.png\"  width=\"120\" style=\"position:absolute; top:7px; right:10px;\">\n",
    "\n",
    "## Erste Schritte\n",
    "1. Essenzielle Bestandteile einer Aufgabe\n",
    "2. *preamble* - 3 Möglichkeiten zum Erstellen einer Überschrift\n",
    "3. Die Methode *scores* - Varianten zum Bewerten der Lösungen"
   ]
  },
  {
   "cell_type": "markdown",
   "id": "f54ba0f8",
   "metadata": {},
   "source": [
    "#### Willkommen zum Einführungskurs in das Assessment System *PyRope!*\n",
    "\n",
    "*PyRope* ist ein frei programmierbares, Python-basiertes Softwarepaket zum Erstellen, Rendern und automatisierten Bewerten randomisierter elektronischer Übungsaufgaben. Es wurde in erster Linie zur Entwicklung von Übungs- Test- und Prüfungs-Aufgaben auf dem Gebiet der Mathematik konzipiert, lässt sich aber dank seiner Flexibilität auch auf andere Wissensgebiete anwenden. Den Möglichkeiten des Entwicklers sind dabei aufgrund der freien Programmierbarkeit praktisch keine Grenzen gesetzt, sie reichen von einfachsten, mit wenigen Codezeilen erzeugbaren bis zu komplexen, modular strukturierten, mit Grafiken, Weblinks, verbalem Feedback ausgestatteten Aufgaben, \n",
    "die auch Theorie-Bestandteile sowie Musterlösungen enthalten können.\n",
    "\n",
    "Lassen Sie uns nun gemeinsam die vielfältigen Möglichkeiten dieses neuen, leistungsfähigen und komfortablen Tools erkunden!\n",
    "\n",
    "<u>Zuvor noch ein Hinweis:</u>\\\n",
    "**Lassen Sie zunächst mittels des Menüpunktes** <span style=\"background-color: powderblue\"><i>Run > Run All Cells</i></span> **alle Codes einmal durchlaufen.**\\\n",
    "**Arbeiten Sie dann die einzelnen Zellen dieses Notebooks in der vorgesehenen Reihenfolge ab! Nur so sind der fehlerfreie Ablauf und die Verständlichkeit des Dargebotenen gewährleistet.**\n",
    "\n",
    "### 1. Essenzielle Bestandteile einer Aufgabe\n",
    "\n",
    "Eine *PyRope*-Aufgabe wird durch eine von der *PyRope* - Klasse *Exercise* abgeleitete Klasse repräsentiert.\\\n",
    "Ein Script enthält die erforderlichen import-Befehle\n",
    "sowie eine oder mehrere Klassen. Ausserdem kann das Script ausserhalb der Klassen noch Texte, Variablen und \n",
    "Funktionen enthalten, die dann von mehreren Klassen gemeinsam genutzt werden können. Hierauf werden wir \n",
    "später noch genauer eingehen.\n",
    "\n",
    "Unverzichtbar für jede Aufgabe ist lediglich die Methode *problem*. Sie stellt den Aufgabentext bereit:"
   ]
  },
  {
   "cell_type": "code",
   "execution_count": 23,
   "id": "8e9ad863-a002-40cd-9b35-470e1a51bcaf",
   "metadata": {
    "jupyter": {
     "source_hidden": true
    }
   },
   "outputs": [
    {
     "data": {
      "application/vnd.jupyter.widget-view+json": {
       "model_id": "e097fffe0c8746f588ff1a9092183ced",
       "version_major": 2,
       "version_minor": 0
      },
      "text/plain": [
       "Exercise(clear_debug_btn=Button(description='Clear Debug', style=ButtonStyle()), debug_output=DebugOutput(outp…"
      ]
     },
     "metadata": {},
     "output_type": "display_data"
    }
   ],
   "source": [
    "from pyrope import *\n",
    "\n",
    "class Aufgabe0(Exercise):\n",
    "    \n",
    "    def problem(self):\n",
    "        return Problem(\n",
    "        \"Let's start now\",\n",
    "        )\n",
    "\n",
    "Aufgabe0().run()"
   ]
  },
  {
   "cell_type": "markdown",
   "id": "2ae7780c-cdae-46e3-9f53-8541a8d331ec",
   "metadata": {},
   "source": [
    "Wenn lediglich Text ausgegeben werden soll, ist kein weiterer Code erforderlich. PyRope setzt dann den Score (die Bewertung der Aufgabe) automatisch auf 0. Für eine echte Aufgabe bedarf es aber natürlich noch weiterer Festlegungen: Es müssen Inputfelder für die User-Eingaben und zu jedem Inputfeld eine Musterlösung bereitgestellt werden. Zum Einstieg ein ganz simples Beispiel: "
   ]
  },
  {
   "cell_type": "code",
   "execution_count": 26,
   "id": "b7a0da23",
   "metadata": {
    "jupyter": {
     "source_hidden": true
    }
   },
   "outputs": [
    {
     "data": {
      "application/vnd.jupyter.widget-view+json": {
       "model_id": "658a0524ab2a4c3bb135ef1866f253f0",
       "version_major": 2,
       "version_minor": 0
      },
      "text/plain": [
       "Exercise(clear_debug_btn=Button(description='Clear Debug', style=ButtonStyle()), debug_output=DebugOutput(outp…"
      ]
     },
     "metadata": {},
     "output_type": "display_data"
    }
   ],
   "source": [
    "from pyrope import *\n",
    "\n",
    "import random as rd\n",
    "\n",
    "class Aufgabe1(Exercise):\n",
    "\n",
    "    def parameters(self):\n",
    "        a = rd.randint(2,9)\n",
    "        b = rd.randint(2,9)\n",
    "        return dict(a = a, b = b, S = a+b)\n",
    "    \n",
    "    def problem(self):\n",
    "        return Problem(\n",
    "        'Addieren Sie:\\n\\n<<a>> + <<b>>  =  <<S_>>',\n",
    "        S_ = Int()\n",
    "        )\n",
    "\n",
    "Aufgabe1().run()"
   ]
  },
  {
   "cell_type": "markdown",
   "id": "1c943a3d",
   "metadata": {},
   "source": [
    "Um dieses kleine Beispiel zu implementieren benötigen Sie lediglich die Import-Befehle für *PyRope* und den Python-Modul *random* sowie eine von *Exercise* abgeleitete Klasse, welche die Methoden *parameters* und *problem* enthält.\n",
    "Die Methode *parameters* wird in unserem Beispiel benötigt, um die randomisierten Variablen und die Lösung bereitzustellen. Sie gibt ein *dictionary* zurück, das die in der *problem*-Methode benötigten Variablen enthält.\n",
    "\n",
    "In der Methode *problem* wird der Aufgabentext mit den erforderlichen In- und Output-Feldern erzeugt.\n",
    "\n",
    "Die Auswertung der Lösung und die Punktvergabe wird durch *PyRope* besorgt, sofern wie im obigen Beispiel der Name des Eingabefeldes (im Beispiel S_) gleich dem Namen der Lösungsvariablen (im Beispiel S) mit angefügtem Unterstrich (_) ist und so die Zuordnung zwischen beiden erfolgen kann. Wir nennen dieses praktische Verfahren die *Unterstrich-Konvention*.\n",
    "\n",
    "<u>**Übung 1:**</u>\n",
    "\n",
    "Als erste kleine Übung können Sie jetzt die obige Aufgabe so abändern, dass eine Multiplikationsaufgabe daraus wird.\n",
    "Den Code finden Sie am Ende dieses Notebooks."
   ]
  },
  {
   "cell_type": "code",
   "execution_count": 27,
   "id": "cd0e6909",
   "metadata": {
    "jupyter": {
     "source_hidden": true
    }
   },
   "outputs": [
    {
     "data": {
      "application/vnd.jupyter.widget-view+json": {
       "model_id": "46e282127b5a42589504188104eddded",
       "version_major": 2,
       "version_minor": 0
      },
      "text/plain": [
       "Exercise(clear_debug_btn=Button(description='Clear Debug', style=ButtonStyle()), debug_output=DebugOutput(outp…"
      ]
     },
     "metadata": {},
     "output_type": "display_data"
    }
   ],
   "source": [
    "try: Aufgabe2().run()\n",
    "except: print('\\033[0;31mFirst run all cells !') "
   ]
  },
  {
   "cell_type": "markdown",
   "id": "ee52578c",
   "metadata": {},
   "source": [
    "### 2. *preamble* - 3 Möglichkeiten zum Erstellen einer Überschrift\n",
    "\n",
    "Wir wollen nun unserer Aufgabe einen Titel geben. Hierfür stellt *PyRope* die Methode ***preamble*** bereit:"
   ]
  },
  {
   "cell_type": "code",
   "execution_count": 28,
   "id": "ef1d0f5c",
   "metadata": {
    "jupyter": {
     "source_hidden": true
    },
    "scrolled": true
   },
   "outputs": [
    {
     "data": {
      "application/vnd.jupyter.widget-view+json": {
       "model_id": "b933344e6fc1484aaa565ba5c8336b96",
       "version_major": 2,
       "version_minor": 0
      },
      "text/plain": [
       "Exercise(clear_debug_btn=Button(description='Clear Debug', style=ButtonStyle()), debug_output=DebugOutput(outp…"
      ]
     },
     "metadata": {},
     "output_type": "display_data"
    }
   ],
   "source": [
    "class Preamble1(Aufgabe1):\n",
    "    \n",
    "    def preamble(self):\n",
    "        return '$\\\\color{gray}{\\\\large{\\\\textsf{Aufgabe 1: Addition zweier natürlicher Zahlen}}}$'\n",
    "\n",
    "Preamble1().run()"
   ]
  },
  {
   "cell_type": "markdown",
   "id": "4b0929c1",
   "metadata": {},
   "source": [
    "Für die Gestaltung des Textes kann Markdown oder Latex-Code genutzt werden. Noch einfacher geht es so:"
   ]
  },
  {
   "cell_type": "code",
   "execution_count": 29,
   "id": "53d7f298",
   "metadata": {
    "jupyter": {
     "source_hidden": true
    }
   },
   "outputs": [
    {
     "data": {
      "application/vnd.jupyter.widget-view+json": {
       "model_id": "a681e47fe9b74f488d782be85cfcacc5",
       "version_major": 2,
       "version_minor": 0
      },
      "text/plain": [
       "Exercise(clear_debug_btn=Button(description='Clear Debug', style=ButtonStyle()), debug_output=DebugOutput(outp…"
      ]
     },
     "metadata": {},
     "output_type": "display_data"
    }
   ],
   "source": [
    "class Preamble2(Aufgabe1):\n",
    "    \n",
    "    preamble = '# *PyRope* Tutorial Teil 1\\n\\n' + Preamble1().preamble()\n",
    "\n",
    "Preamble2().run()"
   ]
  },
  {
   "cell_type": "markdown",
   "id": "774ae343",
   "metadata": {},
   "source": [
    "Schliesslich gibt es noch diese Variante - sie bietet sich an, wenn man einen mehrzeiligen Text in der *preamble* unterbringen möchte:"
   ]
  },
  {
   "cell_type": "code",
   "execution_count": 30,
   "id": "3a115a76",
   "metadata": {
    "jupyter": {
     "source_hidden": true
    },
    "scrolled": true
   },
   "outputs": [
    {
     "data": {
      "application/vnd.jupyter.widget-view+json": {
       "model_id": "3cbf60b032a04dd3b503418db4750c94",
       "version_major": 2,
       "version_minor": 0
      },
      "text/plain": [
       "Exercise(clear_debug_btn=Button(description='Clear Debug', style=ButtonStyle()), debug_output=DebugOutput(outp…"
      ]
     },
     "metadata": {},
     "output_type": "display_data"
    }
   ],
   "source": [
    "class Preamble3(Aufgabe1):\n",
    "    \n",
    "    '''\n",
    "    ***PyRope* Tutorial Teil 1: Erste Schritte**\n",
    "    \n",
    "    1. Essenzielle Bestandteile einer Aufgabe\n",
    "    2. *preamble* - 3 Möglichkeiten zum Erstellen einer Überschrift\n",
    "    3. Die Methode *scores* - Varianten zum Bewerten der Lösungen\n",
    "    '''\n",
    "\n",
    "    preamble = __doc__\n",
    "\n",
    "\n",
    "Preamble3().run()"
   ]
  },
  {
   "cell_type": "markdown",
   "id": "021f6f85",
   "metadata": {},
   "source": [
    "<u>**Übung 2:**</u>\n",
    "\n",
    "Erstellen Sie mit der Variante Ihrer Wahl eine *preamble* mit folgendem Inhalt. Der Code für eine mögliche Umsetzung findet sich am Ende dieses Notebooks."
   ]
  },
  {
   "cell_type": "code",
   "execution_count": 31,
   "id": "554e1261",
   "metadata": {
    "jupyter": {
     "source_hidden": true
    }
   },
   "outputs": [
    {
     "data": {
      "application/vnd.jupyter.widget-view+json": {
       "model_id": "e13e20b083c34185b1039df6393a5467",
       "version_major": 2,
       "version_minor": 0
      },
      "text/plain": [
       "Exercise(clear_debug_btn=Button(description='Clear Debug', style=ButtonStyle()), debug_output=DebugOutput(outp…"
      ]
     },
     "metadata": {},
     "output_type": "display_data"
    }
   ],
   "source": [
    "try: Preamble4().run()\n",
    "except: print('\\033[0;31mFirst run all cells !')"
   ]
  },
  {
   "cell_type": "markdown",
   "id": "be4aa1ae",
   "metadata": {},
   "source": [
    "Wir widmen uns nun einem etwas komplizierteren Problem aus dem Grundschulbereich:"
   ]
  },
  {
   "cell_type": "code",
   "execution_count": 32,
   "id": "bdb72e2b",
   "metadata": {
    "jupyter": {
     "source_hidden": true
    }
   },
   "outputs": [
    {
     "data": {
      "application/vnd.jupyter.widget-view+json": {
       "model_id": "5e54638ec7ca443ca681ae5ed62381b8",
       "version_major": 2,
       "version_minor": 0
      },
      "text/plain": [
       "Exercise(clear_debug_btn=Button(description='Clear Debug', style=ButtonStyle()), debug_output=DebugOutput(outp…"
      ]
     },
     "metadata": {},
     "output_type": "display_data"
    }
   ],
   "source": [
    "class Aufgabe3(Exercise):\n",
    "    \n",
    "    preamble = '**Division zweier natürlicher Zahlen**'\n",
    "\n",
    "    def parameters(self):\n",
    "        a = rd.randint(2,99)\n",
    "        b = 1\n",
    "        while a/b == round(a/b, 4):\n",
    "            b = rd.choice([3,6,7,9])\n",
    "        return dict(a = a, b = b, Q = a/b)\n",
    "    \n",
    "    def problem(self):\n",
    "        return Problem(\n",
    "        'Dividieren Sie:\\n\\n<<a>> : <<b>>  =  <<Q_>>',\n",
    "        Q_ = Real()\n",
    "        )\n",
    "\n",
    "Aufgabe3().run()"
   ]
  },
  {
   "cell_type": "markdown",
   "id": "6adc1dc9",
   "metadata": {},
   "source": [
    "Falls Sie für Ihre Lösung keinen Punkt erhalten haben muss es nicht daran liegen, dass Sie mit der Aufgabenstellung überfordert waren. Es kann auch sein, dass Sie am penetranten Genauigkeitsfimmel des Systems gescheitert sind: Die Software will nicht einsehen, dass z.B. $\\frac{20}{3}$ (fast) dasselbe ist wie 6.667 und besteht stur auf der Eingabe von 6.6666666666... \n",
    "Um sie zu ein bisschen mehr *laissez faire* zu bewegen und zu verhindern, dass man sich schon bei der Eingabe \n",
    "einer so einfachen Lösung die Finger wund tippt, können wir das Inputfeld Q_ für den Quotienten mit einer Vorgabe für die geforderte Genauigkeit ausstatten:"
   ]
  },
  {
   "cell_type": "code",
   "execution_count": 33,
   "id": "c1959bc3",
   "metadata": {
    "jupyter": {
     "source_hidden": true
    }
   },
   "outputs": [
    {
     "data": {
      "application/vnd.jupyter.widget-view+json": {
       "model_id": "2d139cc37c384ebdbce6256b27aeccd6",
       "version_major": 2,
       "version_minor": 0
      },
      "text/plain": [
       "Exercise(clear_debug_btn=Button(description='Clear Debug', style=ButtonStyle()), debug_output=DebugOutput(outp…"
      ]
     },
     "metadata": {},
     "output_type": "display_data"
    }
   ],
   "source": [
    "class Aufgabe4(Aufgabe3):\n",
    "    \n",
    "    preamble = '**Division zweier natürlicher Zahlen** - Rundung auf mind. 3 NK-Stellen'\n",
    "\n",
    "    def problem(self):\n",
    "        return Problem(\n",
    "        'Dividieren Sie:\\n\\n<<a>> : <<b>>  =  <<Q_>>',\n",
    "        Q_ = Real(atol=5*10**(-4))\n",
    "        )\n",
    "    \n",
    "Aufgabe4().run()"
   ]
  },
  {
   "cell_type": "markdown",
   "id": "e1e97b00",
   "metadata": {},
   "source": [
    "Jetzt sollte es funktionieren (sofern Sie richtig gerundet haben).\n",
    "\n",
    "<u>**Übung 3:**</u>\n",
    "\n",
    "Ersetzen Sie im obigen Beispiel die absolute durch eine relative Toleranz! \\\n",
    "Die Syntax hierfür lautet ***rtol = val*** mit *val* als maximal tolerierter relativer Abweichung vom Quotienten.\\\n",
    "*Beispiel: Q = 25, rtol = 0.01, tolerierter Inputwert: 24.75 <= Q_ <= 25.25*\\\n",
    "Probieren Sie es aus! Den Code finden Sie wieder am Ende dieses Notebooks."
   ]
  },
  {
   "cell_type": "code",
   "execution_count": 35,
   "id": "a55ba903",
   "metadata": {
    "jupyter": {
     "source_hidden": true
    }
   },
   "outputs": [
    {
     "data": {
      "application/vnd.jupyter.widget-view+json": {
       "model_id": "3598851a0c494b6880414930047dbf20",
       "version_major": 2,
       "version_minor": 0
      },
      "text/plain": [
       "Exercise(clear_debug_btn=Button(description='Clear Debug', style=ButtonStyle()), debug=True, debug_output=Debu…"
      ]
     },
     "metadata": {},
     "output_type": "display_data"
    }
   ],
   "source": [
    "try:Aufgabe5().run(debug = 1)\n",
    "except: print('\\033[0;31mFirst run all cells !')"
   ]
  },
  {
   "cell_type": "markdown",
   "id": "11bd0b6a",
   "metadata": {},
   "source": [
    "Wir kombinieren nun die Additions- und die Divisionsaufgabe. Die Lösung der letzteren übergeben wir gleich gerundet an *PyRope*:"
   ]
  },
  {
   "cell_type": "code",
   "execution_count": 54,
   "id": "2311de80",
   "metadata": {
    "jupyter": {
     "source_hidden": true
    }
   },
   "outputs": [
    {
     "data": {
      "application/vnd.jupyter.widget-view+json": {
       "model_id": "253dfd166271407dabecfed0c330969e",
       "version_major": 2,
       "version_minor": 0
      },
      "text/plain": [
       "Exercise(clear_debug_btn=Button(description='Clear Debug', style=ButtonStyle()), debug=True, debug_output=Debu…"
      ]
     },
     "metadata": {},
     "output_type": "display_data"
    }
   ],
   "source": [
    "class Aufgabe6(Exercise):\n",
    "    \n",
    "    preamble = '**Grundrechenarten mit natürlichen Zahlen**'\n",
    "\n",
    "    def parameters(self):\n",
    "        a = rd.randint(2,99)\n",
    "        b = 1\n",
    "        while a/b == round(a/b, 4):\n",
    "            b = rd.choice([3,6,7,9])\n",
    "        return dict(a = a, b = b, S = a+b, Q = round(a/b, 3))\n",
    "    \n",
    "    def problem(self):\n",
    "        return Problem(\n",
    "        'Addieren Sie:\\n\\n<<a>> + <<b>>  =  <<S_>>\\n\\n'\n",
    "        'Dividieren Sie (Genauigkeit >= 3 Nachkomma-Stellen):\\n\\n<<a>> : <<b>>  =  <<Q_>>',\n",
    "        S_ = Int(),\n",
    "        Q_ = Real(atol = 5*10**(-4)) #absolute Toleranz\n",
    "        )\n",
    "\n",
    "Aufgabe6().run(debug = 1)"
   ]
  },
  {
   "cell_type": "markdown",
   "id": "8d252373",
   "metadata": {},
   "source": [
    "### 3. Die Methode *scores* - Varianten zum Bewerten der Lösungen\n",
    "\n",
    "Lassen Sie uns nun die Bewertung ein bisschen differenzieren:\\\n",
    "Für die ausserordentlich schwierige Divisions-Aufgabe wollen wir statt einem jetzt zwei Punkte vergeben.\\\n",
    "Unsere diesbezügliche Festlegung teilen wir *PyRope* über die Methode *scores* mit, die dann wie folgt aussieht:"
   ]
  },
  {
   "cell_type": "code",
   "execution_count": 53,
   "id": "913065b4",
   "metadata": {
    "jupyter": {
     "source_hidden": true
    }
   },
   "outputs": [
    {
     "data": {
      "application/vnd.jupyter.widget-view+json": {
       "model_id": "49e29212f94b44d2adb6174e7db308db",
       "version_major": 2,
       "version_minor": 0
      },
      "text/plain": [
       "Exercise(clear_debug_btn=Button(description='Clear Debug', style=ButtonStyle()), debug=True, debug_output=Debu…"
      ]
     },
     "metadata": {},
     "output_type": "display_data"
    }
   ],
   "source": [
    "class Aufgabe7(Aufgabe6):\n",
    "    \n",
    "    def scores(self, S_, Q_, S, Q):\n",
    "        score = S_==S\n",
    "        if Q_ is not None:\n",
    "            score += 2*(round(Q_, 3) == Q)\n",
    "        return score\n",
    "    \n",
    "Aufgabe7().run(debug = 1)"
   ]
  },
  {
   "cell_type": "markdown",
   "id": "95a4714c",
   "metadata": {},
   "source": [
    "Die selbst implementierte *scores*-Methode muss dann gegebenenfalls auch die Behandlung von Näherungslösungen enthalten.\n",
    "\n",
    "Die Einzelbewertung, die bisher nach *Submit* hinter jedem Inputfeld abrufbar war, wird nun nicht mehr angezeigt, weil *PyRope* über diese Infomationen nicht verfügt. Möchten wir darauf nicht verzichten, müssen wir dem System die entsprechenden Informationen mitteilen. Dies wird durch die folgende *scores*-Variante ermöglicht:"
   ]
  },
  {
   "cell_type": "code",
   "execution_count": 13,
   "id": "7fb3608b",
   "metadata": {
    "jupyter": {
     "source_hidden": true
    }
   },
   "outputs": [
    {
     "data": {
      "application/vnd.jupyter.widget-view+json": {
       "model_id": "895ee92b4fd745eba86d0e31ff50535f",
       "version_major": 2,
       "version_minor": 0
      },
      "text/plain": [
       "Exercise(clear_debug_btn=Button(description='Clear Debug', style=ButtonStyle()), debug=True, debug_output=Debu…"
      ]
     },
     "metadata": {},
     "output_type": "display_data"
    }
   ],
   "source": [
    "class Aufgabe8(Aufgabe6):\n",
    "    \n",
    "    def scores(self, S_, Q_, S, Q):\n",
    "        score = [int(S_ == S), 0]\n",
    "        if Q_ is not None:\n",
    "            score[1] += 2*(round(Q_, 3) == Q)\n",
    "        return {'S_': score[0], 'Q_': score[1]}\n",
    "    \n",
    "Aufgabe8().run(debug = 1)"
   ]
  },
  {
   "cell_type": "markdown",
   "id": "3d7a2578-d460-48a0-b086-b26a1c8290fd",
   "metadata": {},
   "source": [
    "Als Rückgabewert haben wir jetzt ein *dictionary*, das jedem Inputfeld die erreichte Punktzahl zuordnet. In diesem Fall brauchen wir das Inputfeld S_ nicht in der scores-Methode behandeln. Da seine Bewertung standardmässig mit 1 erfolgen soll, übernimmt PyRope diesen Teil der Bewertung und addiert die scores beider Felder automatisch:"
   ]
  },
  {
   "cell_type": "code",
   "execution_count": 14,
   "id": "f6a6a650-1d3c-45b5-9ae2-347566476da6",
   "metadata": {
    "jupyter": {
     "source_hidden": true
    }
   },
   "outputs": [
    {
     "data": {
      "application/vnd.jupyter.widget-view+json": {
       "model_id": "44638e2088f84d97b67acd1b08bc49eb",
       "version_major": 2,
       "version_minor": 0
      },
      "text/plain": [
       "Exercise(clear_debug_btn=Button(description='Clear Debug', style=ButtonStyle()), debug=True, debug_output=Debu…"
      ]
     },
     "metadata": {},
     "output_type": "display_data"
    }
   ],
   "source": [
    "class Aufgabe9(Aufgabe6):\n",
    "    \n",
    "    def scores(self, Q_, Q):\n",
    "        score = 0\n",
    "        if Q_ is not None:\n",
    "            score += 2*(round(Q_, 3) == Q)\n",
    "        return {'Q_': score}\n",
    "    \n",
    "Aufgabe9().run(debug = 1)"
   ]
  },
  {
   "cell_type": "markdown",
   "id": "e60ac02f",
   "metadata": {},
   "source": [
    "In den vorangehenden Aufgaben haben wir immer die  Inputfelder entsprechend der *Unterstrich-Konvention* benannt. Sofern dann für jedes richtig ausgefüllte Inputfeld ein Punkt vergeben wird, kann *PyRope* die Maximalpunktzahl automatisch berechnen. \n",
    "\n",
    "Was passiert aber, wenn die Benennung einmal nicht diesem Schema folgt? (Wir werden im Folgenden noch Aufgaben kennenlernen, wo dies sinnvoll ist).\n",
    "\n",
    "Probieren Sie es aus!"
   ]
  },
  {
   "cell_type": "code",
   "execution_count": 57,
   "id": "7902f823",
   "metadata": {
    "jupyter": {
     "source_hidden": true
    }
   },
   "outputs": [
    {
     "data": {
      "application/vnd.jupyter.widget-view+json": {
       "model_id": "7f19501f6f97426489f2e2631e9ed3fe",
       "version_major": 2,
       "version_minor": 0
      },
      "text/plain": [
       "Exercise(clear_debug_btn=Button(description='Clear Debug', style=ButtonStyle()), debug=True, debug_output=Debu…"
      ]
     },
     "metadata": {},
     "output_type": "display_data"
    }
   ],
   "source": [
    "class Aufgabe10(Aufgabe6):\n",
    "    \n",
    "    def problem(self):\n",
    "        P = Aufgabe6().problem()\n",
    "        template = P.template.replace('S_','Sum_').replace('Q_','Quot_')\n",
    "        return Problem(template, Sum_ = Int(), Quot_ = Real())\n",
    "    \n",
    "    def scores(self, Sum_, Quot_, S, Q):\n",
    "        score = Sum_ == S\n",
    "        if Quot_ is not None: \n",
    "            score += 2*(round(Quot_, 3) == Q)\n",
    "        return score\n",
    "    \n",
    "Aufgabe10().run(debug = 1)"
   ]
  },
  {
   "cell_type": "markdown",
   "id": "2550a846",
   "metadata": {},
   "source": [
    "In diesem Fall kann *PyRope* die Zuordnung nicht automatisch vornehmen. Wir müssen daher die  Maximalpunktzahl selbst übergeben. Dafür können wir die *scores*-Methode mit einem Rückgabewert vom Typ *Tuple* nutzen:"
   ]
  },
  {
   "cell_type": "code",
   "execution_count": 58,
   "id": "d2790996",
   "metadata": {
    "jupyter": {
     "source_hidden": true
    }
   },
   "outputs": [
    {
     "data": {
      "application/vnd.jupyter.widget-view+json": {
       "model_id": "6eadc3d36d7248b7bcb713df48a1eb31",
       "version_major": 2,
       "version_minor": 0
      },
      "text/plain": [
       "Exercise(clear_debug_btn=Button(description='Clear Debug', style=ButtonStyle()), debug_output=DebugOutput(outp…"
      ]
     },
     "metadata": {},
     "output_type": "display_data"
    }
   ],
   "source": [
    "class Aufgabe11(Aufgabe10):\n",
    "    \n",
    "    def scores(self, Sum_, Quot_, S, Q):\n",
    "        score = Sum_ == S\n",
    "        if Quot_ is not None: \n",
    "            score += 2*(round(Quot_, 3) == Q)\n",
    "        return (score, 3)\n",
    "    \n",
    "Aufgabe11().run(debug = 0)"
   ]
  },
  {
   "cell_type": "markdown",
   "id": "73a11fc5",
   "metadata": {},
   "source": [
    "Natürlich kann *PyRope* in diesem Fall keine Lösungen und keine Einzelbewertungen anzeigen.\n",
    "\n",
    "Wir haben somit 3 Möglichkeiten für den Rückgabewert von *scores*:\n",
    "\n",
    "+ Numerischer Wert (Int oder Real)\n",
    "+ Dictionary\n",
    "+ Tuple"
   ]
  },
  {
   "cell_type": "markdown",
   "id": "5749bbd8",
   "metadata": {},
   "source": [
    "#### <u>**Übung 4:**</u>\n",
    "\n",
    "Implementieren Sie eine Aufgabe, in der alle 4 Grundrechenarten und zusätzlich das Potenzieren vorkommen.\\\n",
    "Vergeben Sie für Addition und Subtraktion jeweils einen, für Multiplikation und Division je 2 und für das Potenzieren 3 Punkte!\\\n",
    "Den Code für eine mögliche Umsetzung finden Sie am Ende dieses Notebooks."
   ]
  },
  {
   "cell_type": "code",
   "execution_count": 17,
   "id": "7fe1682c",
   "metadata": {
    "jupyter": {
     "source_hidden": true
    }
   },
   "outputs": [
    {
     "name": "stdout",
     "output_type": "stream",
     "text": [
      "\u001b[0;31mFirst run all cells !\n"
     ]
    }
   ],
   "source": [
    "try: Aufgabe12().run(debug = 1)\n",
    "except: print('\\033[0;31mFirst run all cells !')"
   ]
  },
  {
   "cell_type": "markdown",
   "id": "a344ed74",
   "metadata": {},
   "source": [
    "Nachdem Sie nun einen ersten Einblick in die Entwicklung von Aufgaben mit *PyRope* gewonnen haben, können Sie\n",
    "\n",
    "+ ein *PyRope*-Script mit den erforderlichen imports und Aufgaben-Klassen erstellen\n",
    "+ einer Aufgabe mit *preamble* einen Titel geben und den Text mittels Markdown und/oder Latex gestalten\n",
    "+ mit der Methode *parameters* randomisierte Variablen erzeugen und die Lösungen bereitstellen\n",
    "+ mit der *problem*-Methode die Präsentation der Aufgabe samt Inputfeldern veranlassen\n",
    "+ mit *scores* die Auswertung der Eingaben und die Punktvergabe organisieren\n",
    "\n",
    "Wie schon eingangs erwähnt, bietet *PyRope* aber viel mehr an leistungsfähigen, dennoch einfach handhabbaren Features, \n",
    "die das Entwickeln anspruchsvoller, hochkomplexer, auch mehrstufiger Aufgaben erlauben.\n",
    "Damit beschäftigen sich die folgenden Teile dieses Tutorials.\n",
    "\n",
    "Wir, das FassMII-A-Team, würden uns freuen, Sie bei Teil 2 wieder begrüßen zu dürfen."
   ]
  },
  {
   "cell_type": "markdown",
   "id": "424967f3",
   "metadata": {},
   "source": [
    "##### Der Code zur Übung 1:"
   ]
  },
  {
   "cell_type": "code",
   "execution_count": 18,
   "id": "02284814",
   "metadata": {
    "jupyter": {
     "source_hidden": true
    }
   },
   "outputs": [],
   "source": [
    "from pyrope import *\n",
    "\n",
    "class Aufgabe2(Exercise):\n",
    "    \n",
    "    def parameters(self):\n",
    "        a = rd.randint(2,9)\n",
    "        b = rd.randint(2,9)\n",
    "        return dict(a = a, b = b, P = a*b)\n",
    "        \n",
    "    def problem(self):\n",
    "        return Problem(\n",
    "        'Multiplizieren Sie:\\n\\n<<a>> * <<b>>  =  <<P_>>',\n",
    "        P_ = Int()\n",
    "        )"
   ]
  },
  {
   "cell_type": "markdown",
   "id": "8926aa64",
   "metadata": {},
   "source": [
    "##### Der Code zur Übung 2:"
   ]
  },
  {
   "cell_type": "code",
   "execution_count": 19,
   "id": "202a92ec",
   "metadata": {
    "jupyter": {
     "source_hidden": true
    }
   },
   "outputs": [],
   "source": [
    "class Preamble4(Exercise):\n",
    "    \n",
    "    '''\n",
    "    $\\\\color{gray}{\\\\Large{\\\\textsf{\\\\textit{PyRope} Tutorial Teil 1: Erste Schritte}}}$\n",
    "    \n",
    "    **1. Essenzielle Bestandteile einer Aufgabe**\n",
    "    \n",
    "        + die Methode *parameters*\n",
    "        + die Methode *problem*\n",
    "        \n",
    "    **2. *preamble* - 3 Möglichkeiten zum Erstellen einer Überschrift**\n",
    "    \n",
    "        + *preamble*-Methode\n",
    "        + *preamble*-Command\n",
    "        + *preamble*-DocString\n",
    "    \n",
    "    **3. Die Methode *scores* - Varianten zum Bewerten der Lösungen**\n",
    "    \n",
    "        + *scores*-Value\n",
    "        + *scores*-Dictionary\n",
    "        + *scores*-Tuple\n",
    "    '''\n",
    "\n",
    "    preamble = __doc__\n",
    "    \n",
    "    def problem(self):\n",
    "        return Problem('')\n",
    "    \n",
    "    def scores(self):\n",
    "        return 1"
   ]
  },
  {
   "cell_type": "markdown",
   "id": "8efe9b82",
   "metadata": {},
   "source": [
    "##### Der Code zur Übung 3:"
   ]
  },
  {
   "cell_type": "code",
   "execution_count": 20,
   "id": "0051a857",
   "metadata": {
    "jupyter": {
     "source_hidden": true
    }
   },
   "outputs": [],
   "source": [
    "class Aufgabe5(Exercise):\n",
    "    \n",
    "    preamble = '**Division zweier natürlicher Zahlen** - tolerierte Abweichung vom präzisen Wert Q: Q/100'\n",
    "    \n",
    "    def parameters(self):\n",
    "        a = rd.randint(2,99)\n",
    "        b = 1\n",
    "        while a/b == round(a/b, 4):\n",
    "            b = rd.choice([3,6,7,9])\n",
    "        return dict(a = a, b = b, Q = a/b)\n",
    "    \n",
    "    def problem(self):\n",
    "        return Problem(\n",
    "        'Dividieren Sie:\\n<<a>> : <<b>>  =  <<Q_>>',\n",
    "        Q_ = Real(rtol = 0.01) #relative Toleranz\n",
    "        )"
   ]
  },
  {
   "cell_type": "markdown",
   "id": "2c480032",
   "metadata": {},
   "source": [
    "##### Der Code zur Übung 4:"
   ]
  },
  {
   "cell_type": "code",
   "execution_count": 21,
   "id": "27479afc",
   "metadata": {
    "jupyter": {
     "source_hidden": true
    }
   },
   "outputs": [],
   "source": [
    "import random as rd\n",
    "\n",
    "class Aufgabe12(Exercise):\n",
    "    \n",
    "    preamble = '**Rechnen mit natürlichen Zahlen**'\n",
    "\n",
    "    def parameters(self):\n",
    "        a = rd.randint(2,99)\n",
    "        b = 1\n",
    "        while a/b == round(a/b, 4):\n",
    "            b = rd.choice([3,6,7,9])\n",
    "        e = rd.randint(2,4)\n",
    "        return dict(a = a, b = b, e = e, S = a+b, D = a-b, P = a*b, Q = round(a/b, 3), Pt = a**e)\n",
    "    \n",
    "    def problem(self):\n",
    "        return Problem('''\n",
    "            Addieren Sie: $<<a:latex>> + <<b:latex>> = $ <<S_>>\\n\\n\n",
    "            Subtrahieren Sie: $<<a:latex>> - <<b:latex>> = $ <<D_>>\\n\\n\n",
    "            Multiplizieren Sie: $<<a:latex>> * <<b:latex>> = $ <<P_>>\\n\\n\n",
    "            Dividieren Sie: $\\\\frac{<<a:latex>>}{<<b:latex>>} = $ <<Q_>>$~~~$(Runden Sie auf genau 3 Nachkomma-Stellen)\\n\\n\n",
    "            Potenzieren Sie: $<<a:latex>>^<<e:latex>> = $ <<Pt_>>''',\n",
    "            S_ = Int(),\n",
    "            D_ = Int(),\n",
    "            P_ = Int(),\n",
    "            Q_ = Real(),\n",
    "            Pt_ = Int()\n",
    "            )\n",
    "    \n",
    "    def scores(self, P_, Q_, Pt_, S, D, P, Q, Pt):\n",
    "        return dict(P_ = 2*(P_==P), Q_ = 2*(Q_==Q), Pt_ = 3*(Pt_==Pt))"
   ]
  }
 ],
 "metadata": {
  "kernelspec": {
   "display_name": "Python 3 (ipykernel)",
   "language": "python",
   "name": "python3"
  },
  "language_info": {
   "codemirror_mode": {
    "name": "ipython",
    "version": 3
   },
   "file_extension": ".py",
   "mimetype": "text/x-python",
   "name": "python",
   "nbconvert_exporter": "python",
   "pygments_lexer": "ipython3",
   "version": "3.12.4"
  }
 },
 "nbformat": 4,
 "nbformat_minor": 5
}
