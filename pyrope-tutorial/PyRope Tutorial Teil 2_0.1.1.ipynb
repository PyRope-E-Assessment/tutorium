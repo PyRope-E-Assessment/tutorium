{
 "cells": [
  {
   "cell_type": "markdown",
   "id": "fff55ec5",
   "metadata": {},
   "source": [
    "## $\\LARGE{PyRope~Tutorial~Teil~2}$\n",
    "<img src =\"https://www.htwk-leipzig.de/fileadmin/_processed_/d/9/csm_logo_-PyRope_1a13e128d1.png\"  width=\"120\" style=\"position:absolute; top:12px; right:10px;\">\n",
    "\n",
    "## Dialogfunktionen\n",
    "1. Formeldarstellung\n",
    "2. Die Methode *feedback*\n",
    "3. Grafiken\n",
    "4. Tabellen\n",
    "5. Die Methode *hints*"
   ]
  },
  {
   "cell_type": "markdown",
   "id": "be5f2b55",
   "metadata": {},
   "source": [
    "#### Willkommen zum 2. Teil des Einführungskurses in das Assessment System *PyRope!*\n",
    "        \n",
    "Nachdem wir im ersten Teil die essenziellen Bestandteile einer mit *PyRope* entwickelten Aufgabe und grundlegende\n",
    "Methoden zum Erstellen einfachster mathematischer Aufgaben kennengelernt haben, wollen wir uns nun im zweiten Teil\n",
    "mit einigen Features zur nutzerfreundlichen Gestaltung der Aufgaben befassen.\n",
    "\n",
    "<u>Hinweis:</u>&ensp;**Wie schon in Teil 1 ist auch hier zuerst** <span style=\"background-color: powderblue\"><i>Run > Run All Cells</i></span> **und anschließend die Einhaltung der vorgegebenen Reihenfolge erforderlich!**\n",
    "\n",
    "### 1. Formeldarstellung"
   ]
  },
  {
   "cell_type": "code",
   "execution_count": 21,
   "id": "f01b8095",
   "metadata": {
    "jupyter": {
     "source_hidden": true
    }
   },
   "outputs": [
    {
     "data": {
      "application/vnd.jupyter.widget-view+json": {
       "model_id": "669cbb9e08de4affba7236cdd72017fa",
       "version_major": 2,
       "version_minor": 0
      },
      "text/plain": [
       "Exercise(clear_debug_btn=Button(description='Clear Debug', style=ButtonStyle()), debug=True, debug_output=Debu…"
      ]
     },
     "metadata": {},
     "output_type": "display_data"
    }
   ],
   "source": [
    "from pyrope import *\n",
    "\n",
    "import random as rd\n",
    "from sympy import symbols, integrate, diff\n",
    "from sympy.solvers import solve\n",
    "\n",
    "x = symbols('x')\n",
    "\n",
    "class Aufgabe1(Exercise):\n",
    "    \n",
    "    preamble = '**Quadratische Funktionen**'\n",
    "    \n",
    "    def parameters(self):\n",
    "        a = rd.choice([-1, 1])*rd.randint(1,3)*3\n",
    "        b = rd.choice([-1, 1])*rd.randint(1,4)*2\n",
    "        if a > 0: c = rd.randint(-9, -1) #2 different roots\n",
    "        else: c = rd.randint(1, 9)\n",
    "        f = a*x**2 + b*x + c\n",
    "        Fx = integrate(f, x)\n",
    "        nst = solve(f, x)\n",
    "        nst.sort()\n",
    "        F = abs(float(integrate(f, (x,nst[0],nst[1]))))\n",
    "        for i in range(len(nst)):\n",
    "            nst[i] = round(float(nst[i]),3) #umgekehrt gehts schief!!!\n",
    "        xs = -b/2/a\n",
    "        sp = [round(xs, 3), round(a*xs**2 + b*xs + c, 3)]\n",
    "        return {'f': f, 'nst': nst, 'sp':sp, 'Fx': Fx, 'F': round(F, 3)}\n",
    "    \n",
    "    def problem(self):\n",
    "        return Problem ('''Bestimmen Sie die Nullstellen $N=[x_{01},~x_{02}]$ und den Scheitelpunkt $S=[x_s,~y_s]$ \n",
    "        sowie eine Stammfunktion der quadratischen Funktion\\n\\n$~~~~f(x) =$ <<f>>\\n\\n \n",
    "        $~~~~N =$ <<nst_>> $ ~~~~~~~~~~~~~~~~S = $ <<sp_>>$~~~~$Geben Sie jeweils eine Liste ein, runden Sie auf mind. 3 NK-Stellen!\\n\\n\\n\\n\n",
    "        $~~~~F(x) = \\\\displaystyle \\\\int f(x)~dx~= $ <<Fx_>>''',\n",
    "        nst_ = Vector(count = 2, atol = 0.0005+10**-9),\n",
    "        sp_ = Vector(count = 2, atol = 0.0005+10**-9),\n",
    "        Fx_ = Expression(symbols = 'x')\n",
    "        )\n",
    "\n",
    "    def scores(self, Fx_, f):\n",
    "        score = 0\n",
    "        if Fx_ is not None:\n",
    "            score += diff(Fx_, x)==f\n",
    "        return {'Fx_': score}\n",
    "\n",
    "Aufgabe1().run(debug = 1)"
   ]
  },
  {
   "cell_type": "markdown",
   "id": "d423a0ed",
   "metadata": {},
   "source": [
    "Mittels des in die *problem*-Methode eingebundenen *Latex*-Codes (in \"$\" eingeschlossen) können Aufgabentexte durch Hervorhebungen und multiple Spaces übersichtlich gestaltet und Indizes, Exponenten sowie Formelzeichen mathematisch korrekt dargestellt werden.\\\n",
    "Der Funktionsausdruck für das Polynom, das in der Variablen f an *PyRope* übergeben wurde und in der *problem*-Methode als Outputfeld <<f\\>> enthalten ist, wird durch *PyRope* in die mathematisch korrekte Form gesetzt.\n",
    "\n",
    "<u>**Übung 1:**</u>\n",
    "\n",
    "Ergänzen Sie die *problem*-Methode von Aufgabe 1 durch die Frage nach dem bestimmten Integral der Funktion f(x), das\n",
    "die vom Graphen der Funktion und der x-Achse eingeschlossene Fläche F beschreibt! Den zugehörigen Code finden Sie am Ende dieses Notebooks."
   ]
  },
  {
   "cell_type": "code",
   "execution_count": 22,
   "id": "a254061b",
   "metadata": {
    "jupyter": {
     "source_hidden": true
    }
   },
   "outputs": [
    {
     "data": {
      "application/vnd.jupyter.widget-view+json": {
       "model_id": "248856629a294f9192269d32dae6f527",
       "version_major": 2,
       "version_minor": 0
      },
      "text/plain": [
       "Exercise(clear_debug_btn=Button(description='Clear Debug', style=ButtonStyle()), debug=True, debug_output=Debu…"
      ]
     },
     "metadata": {},
     "output_type": "display_data"
    }
   ],
   "source": [
    "try: Aufgabe2().run(debug = 1)\n",
    "except: print('\\033[0;31mFirst run all cells !') "
   ]
  },
  {
   "cell_type": "markdown",
   "id": "e96f212c",
   "metadata": {},
   "source": [
    "### 2. Feedback\n",
    "\n",
    "Nach Eingabe der Lösung soll eine verbale Rückmeldung erfolgen, die bei fehlerhafter Lösung einen Hinweis auf Hilfe zum Selbststudium enthält.\\\n",
    "Hierfür stellt *PyRope* die Methode *feedback* zur Verfügung. Die *scores*-Methode übergibt die erreichte Punktzahl."
   ]
  },
  {
   "cell_type": "code",
   "execution_count": 23,
   "id": "a4e78607",
   "metadata": {
    "jupyter": {
     "source_hidden": true
    }
   },
   "outputs": [
    {
     "data": {
      "application/vnd.jupyter.widget-view+json": {
       "model_id": "af16bad3d8e64ababe50fbcf91fab4a2",
       "version_major": 2,
       "version_minor": 0
      },
      "text/plain": [
       "Exercise(clear_debug_btn=Button(description='Clear Debug', style=ButtonStyle()), debug=True, debug_output=Debu…"
      ]
     },
     "metadata": {},
     "output_type": "display_data"
    }
   ],
   "source": [
    "class Aufgabe3(Aufgabe1):\n",
    "    \n",
    "    def feedback(self, nst_, sp_, nst, sp):\n",
    "        if self.scores(nst_, sp_, nst, sp)==3: fb = 'Super, alles richtig!'\n",
    "        else: fb = 'Da hat leider nicht alles gestimmt. [**Hier**](https://studyflix.de/mathematik/parabel-formel-4204) '+\\\n",
    "        'finden Sie Hilfe zum Thema Quadratische Funktionen.'\n",
    "        return fb\n",
    "    \n",
    "    def scores(self, nst_, sp_, nst, sp):\n",
    "        score = 0\n",
    "        if nst_ is not None:\n",
    "            if len(nst_)==len(nst):\n",
    "                nst_.sort()\n",
    "                for i in range (len(nst)):\n",
    "                    score += (nst_[i] == nst[i])\n",
    "        if sp_ is not None:\n",
    "            if len(sp_)==2:\n",
    "                score += (sp_[0]==sp[0]) + (sp_[1]==sp[1])\n",
    "        return score\n",
    "    \n",
    "Aufgabe3().run(debug = 1)"
   ]
  },
  {
   "cell_type": "markdown",
   "id": "04f396ad",
   "metadata": {},
   "source": [
    "<u>**Übung 2:**</u>\n",
    "\n",
    "Erzeugen Sie zur Aufgabe 1 ein feedback, das je nach aufgetretenem Fehler die Lösungsformel für die \n",
    "Nullstellen oder den Scheitelpunkt, oder für beide ausgibt!\\\n",
    "<u>*Hinweis:*</u> Im *PyRope* Tutorial Teil 1 hatten wir eine *scores*-Methode vorgestellt, mit der 2 Eingabefelder separat bewertet werden können.\n",
    "\n",
    "Den Code für die folgende Umsetzung sehen Sie am Ende dieses Notebooks."
   ]
  },
  {
   "cell_type": "code",
   "execution_count": 38,
   "id": "05f0c016",
   "metadata": {
    "jupyter": {
     "source_hidden": true
    }
   },
   "outputs": [
    {
     "data": {
      "application/vnd.jupyter.widget-view+json": {
       "model_id": "d7fe7b9c18e1405a99074e4fc333f612",
       "version_major": 2,
       "version_minor": 0
      },
      "text/plain": [
       "Exercise(clear_debug_btn=Button(description='Clear Debug', style=ButtonStyle()), debug=True, debug_output=Debu…"
      ]
     },
     "metadata": {},
     "output_type": "display_data"
    }
   ],
   "source": [
    "try: Aufgabe4().run(debug = 1)\n",
    "except: print('\\033[0;31mFirst run all cells !') "
   ]
  },
  {
   "cell_type": "markdown",
   "id": "05d970c0",
   "metadata": {},
   "source": [
    "### 3. Grafiken\n",
    "\n",
    "Schön wäre es, wenn wir nun noch - als Hilfestellung oder zur Visualisierung der richtigen Lösung - den Graphen der betrachteten Funktion ausgeben könnten. Dafür erstellen wir zunächst mittels *matplotlib.pyplot* den Graphen. Die Funktion kann ausserhalb der Aufgabe im Script platziert werden und ist so von allen Klassen aufrufbar:"
   ]
  },
  {
   "cell_type": "code",
   "execution_count": 39,
   "id": "b64cd7d1",
   "metadata": {
    "jupyter": {
     "source_hidden": true
    }
   },
   "outputs": [],
   "source": [
    "import matplotlib.pyplot as plt\n",
    "import numpy as np\n",
    "\n",
    "def plotGraph(f, Xpts=[], tp=[], singleGrid = False):\n",
    "    def getY(X):\n",
    "        return f.evalf(subs={x: X})\n",
    "    X = np.arange(min(Xpts)-.1, max(Xpts)+.1, .01)\n",
    "    Y = [getY(X[i]) for i in range (len(X))]\n",
    "    Ypts = [int(getY(Xpts[i])) for i in range (len(Xpts))]\n",
    "    fig, ax = plt.subplots(figsize=(3, 3))\n",
    "    ax.set_aspect('auto')\n",
    "    plt.grid(True)\n",
    "    if singleGrid:\n",
    "        ax.set_yticks(Ypts)\n",
    "        ax.set_xticks(Xpts)\n",
    "    plt.plot(X,Y,'b')\n",
    "    for i in range (len(Xpts)):\n",
    "        plt.plot(Xpts[i], Ypts[i], 'go')\n",
    "    plt.plot(tp[0], tp[1], 'rs')\n",
    "    plt.title('Graph of f(x)', fontsize = 9)\n",
    "    return fig"
   ]
  },
  {
   "cell_type": "markdown",
   "id": "b408bb8f",
   "metadata": {},
   "source": [
    "In *parameters* fügen wir eine Variable für den Graphen in das return-dictionary ein. Dann muss diese Variable nur noch ins *feedback* eingebunden werden:"
   ]
  },
  {
   "cell_type": "code",
   "execution_count": 41,
   "id": "7c6c44b7",
   "metadata": {
    "jupyter": {
     "source_hidden": true
    }
   },
   "outputs": [
    {
     "data": {
      "application/vnd.jupyter.widget-view+json": {
       "model_id": "6735736e285d457083d187830a213664",
       "version_major": 2,
       "version_minor": 0
      },
      "text/plain": [
       "Exercise(clear_debug_btn=Button(description='Clear Debug', style=ButtonStyle()), debug=True, debug_output=Debu…"
      ]
     },
     "metadata": {},
     "output_type": "display_data"
    }
   ],
   "source": [
    "class Aufgabe5(Aufgabe3):\n",
    "    \n",
    "    def parameters(self):\n",
    "        pDict = Aufgabe2().parameters()\n",
    "        [f, nst, sp] = [pDict['f'], pDict['nst'], pDict['sp']]\n",
    "        pDict.update(plotG = plotGraph(f, nst, sp))\n",
    "        return pDict\n",
    "    \n",
    "    def feedback(self, nst_, sp_, nst, sp):\n",
    "        return  '<<plotG>>\\n\\n' + Aufgabe3().feedback(nst_, sp_, nst, sp)\n",
    "    \n",
    "Aufgabe5().run(debug = 1)"
   ]
  },
  {
   "cell_type": "markdown",
   "id": "532a404e",
   "metadata": {},
   "source": [
    "<u>**Übung 3:**</u>\n",
    "\n",
    "Als kleine Übung zum Einstieg in das Thema *Grafiken* können Sie jetzt einmal versuchen, die in Übung 1 berechnete, vom Graphen der Funktion\\\n",
    "und der x-Achse eingeschlossene Fläche F farbig auszufüllen und den Graphen in *feedback* einzufügen! Lösung wie immer am Schluss."
   ]
  },
  {
   "cell_type": "code",
   "execution_count": 43,
   "id": "ee413579",
   "metadata": {
    "jupyter": {
     "source_hidden": true
    }
   },
   "outputs": [
    {
     "data": {
      "application/vnd.jupyter.widget-view+json": {
       "model_id": "c35db36e80c8485dac1f183a7960c8f9",
       "version_major": 2,
       "version_minor": 0
      },
      "text/plain": [
       "Exercise(clear_debug_btn=Button(description='Clear Debug', style=ButtonStyle()), debug=True, debug_output=Debu…"
      ]
     },
     "metadata": {},
     "output_type": "display_data"
    }
   ],
   "source": [
    "try: Aufgabe7().run(debug = 1)\n",
    "except: print('\\033[0;31mFirst run all cells !') "
   ]
  },
  {
   "cell_type": "markdown",
   "id": "b5c4e0e2",
   "metadata": {},
   "source": [
    "Die Grafik kann auch in die Aufgabenstellung eingebunden werden, z.B. wenn aus einer Kurve die Funktionsgleichung ermittelt werden soll:"
   ]
  },
  {
   "cell_type": "code",
   "execution_count": 45,
   "id": "3fe9d207",
   "metadata": {
    "jupyter": {
     "source_hidden": true
    }
   },
   "outputs": [
    {
     "data": {
      "application/vnd.jupyter.widget-view+json": {
       "model_id": "12fe329f5b274ee397501619bcfd0863",
       "version_major": 2,
       "version_minor": 0
      },
      "text/plain": [
       "Exercise(clear_debug_btn=Button(description='Clear Debug', style=ButtonStyle()), debug=True, debug_output=Debu…"
      ]
     },
     "metadata": {},
     "output_type": "display_data"
    }
   ],
   "source": [
    "from sympy import simplify\n",
    "\n",
    "class Aufgabe6(Aufgabe5):\n",
    "    \n",
    "    preamble = '**Kubische Funktionen**'\n",
    "    \n",
    "    def parameters(self):\n",
    "        a = rd.choice([-1,1])*rd.randint(1,2)\n",
    "        b = rd.randint(-2,2)*3*a #für ganzzahl. iP\n",
    "        c = rd.randint(-3,3)\n",
    "        d = rd.randint(-5,5)\n",
    "        f = a*x**3 + b*x**2 + c*x + d\n",
    "        xi = int(-b/3/a) #inflection point\n",
    "        ip = [xi, int(f.evalf(subs={x: xi}))]\n",
    "        xP = [xi, -1, 0, 2] #2 to avoid point symmetry problem \n",
    "        if xP[0] not in xP[1:]: #xi nur 1x in Liste\n",
    "            xP = xP[:-1] #größtes x entfernen\n",
    "            xP.sort()\n",
    "        else:  #xi 2x in Liste\n",
    "            xP = xP[1:] #xi enfernen\n",
    "        return dict(f = f, xP = xP, ip = ip, plotG = plotGraph(f, xP, ip, True))\n",
    "            \n",
    "    def problem(self):\n",
    "        return Problem('''\n",
    "        <<plotG>>\\n\\n\n",
    "        Find out the equation of the polynomial of degree 3 shown in the diagram above. \n",
    "        All values at marked points are integers. The quadratic red one is the inflection point.\\n\\n\n",
    "        $f(x) =$ <<f_>>''',\n",
    "        f_ = Expression(symbols='x', widget = Text(width = 30))\n",
    "        )\n",
    "    \n",
    "    def feedback(self, f_, f):\n",
    "        if self.scores(f_, f) == 4: fb = 'Super, alles richtig!'\n",
    "        else: fb = 'Da hat leider nicht alles gestimmt. '\\\n",
    "        '[**Hier**](https://studyflix.de/lernplan/Y03nJGNg/ganzrationale-funktionen-1956) '+\\\n",
    "        'finden Sie Hilfe.'\n",
    "        return fb\n",
    "\n",
    "    def scores(self, f_, f):\n",
    "        if f_ is not None:\n",
    "            return 4*(simplify(f_ - f)==0)\n",
    "        return 0\n",
    "    \n",
    "Aufgabe6().run(debug = 1)"
   ]
  },
  {
   "cell_type": "markdown",
   "id": "004b2a60",
   "metadata": {},
   "source": [
    "Für die Eingabe einer kubischen Funktion reicht die standardmässige Inputfeld-Breite von 20 Zeichen möglicherweise nicht aus.\\\n",
    "Mittels des *Text-Widgets* ($\\rightarrow$ Zeile 29) können wir eine abweichende Breite festlegen.\\\n",
    "Ausserdem müssen bei einem Inputfeld vom Datentyp *Expression* die im Funktionsausdruck enthaltenen Variablen angegeben werden.\\\n",
    "Ausführliches zum Thema Datentypen und *widgets* folgt in Teil 3 dieses Tutorials.\n",
    "\n",
    "### 4. Tabellen\n",
    "\n",
    "Möchten Sie die Punkte für die kubische Funktion lieber in numerischer Form angeben? Dann bietet sich eine Wertetabelle an. Für eine Tabelle in einfachster Form können wir *Markdown*-Code in die *problem*-Methode einbinden:"
   ]
  },
  {
   "cell_type": "code",
   "execution_count": 82,
   "id": "34d4b216",
   "metadata": {
    "jupyter": {
     "source_hidden": true
    }
   },
   "outputs": [
    {
     "data": {
      "application/vnd.jupyter.widget-view+json": {
       "model_id": "2fc33ef5b4834db9b8443c4ccbdc56f8",
       "version_major": 2,
       "version_minor": 0
      },
      "text/plain": [
       "Exercise(clear_debug_btn=Button(description='Clear Debug', style=ButtonStyle()), debug=True, debug_output=Debu…"
      ]
     },
     "metadata": {},
     "output_type": "display_data"
    }
   ],
   "source": [
    "class Aufgabe8(Aufgabe6):\n",
    "    \n",
    "    def problem(self, f, xP):\n",
    "        yP = [int(f.evalf(subs={x: xP[i]})) for i in range(len(xP))]\n",
    "        valTab = f'''\n",
    "        |x| {xP[0]} | {xP[1]} | {xP[2]} |\n",
    "        |---|---|---|---|\n",
    "        |y| {yP[0]} | {yP[1]} | {yP[2]} |'''\n",
    "        return Problem(f'''\n",
    "        Find out the equation of the polynomial of degree 3 given by the value table {valTab}\\n\\n\n",
    "        $<<ip:latex>>$ is the inflection point.\\n\\n\n",
    "        $f(x) =$ <<f_>>''',\n",
    "        f_ = Expression(symbols='x', widget = Text(width = 30))\n",
    "        )\n",
    "    \n",
    "    def feedback(self, f_, f):\n",
    "        return Aufgabe6().feedback(f_, f) + '<<plotG>>'\n",
    "    \n",
    "Aufgabe8().run(debug = 1)"
   ]
  },
  {
   "cell_type": "markdown",
   "id": "25b67470",
   "metadata": {},
   "source": [
    "Eine Tabelle kann auch Eingabefelder enthalten:"
   ]
  },
  {
   "cell_type": "code",
   "execution_count": 46,
   "id": "955fafc5",
   "metadata": {
    "jupyter": {
     "source_hidden": true
    }
   },
   "outputs": [
    {
     "data": {
      "application/vnd.jupyter.widget-view+json": {
       "model_id": "88a735374d7e4960a75dff7863a59f1d",
       "version_major": 2,
       "version_minor": 0
      },
      "text/plain": [
       "Exercise(clear_debug_btn=Button(description='Clear Debug', style=ButtonStyle()), debug=True, debug_output=Debu…"
      ]
     },
     "metadata": {},
     "output_type": "display_data"
    }
   ],
   "source": [
    "class Aufgabe9(Aufgabe6):\n",
    "    \n",
    "    def parameters(self):\n",
    "        pDict = Aufgabe6().parameters()\n",
    "        [f, xP, ip] = [pDict['f'], pDict['xP'], pDict['ip']]\n",
    "        pts = [[-2, -1, 0, 1, 2], []]\n",
    "        n = 1\n",
    "        Y = []\n",
    "        for i in range(len(pts[0])):\n",
    "            if pts[0][i] in xP:\n",
    "                pts[1].append(int(f.evalf(subs={x: pts[0][i]})))\n",
    "            else:\n",
    "                pts[1].append('<<y'+str(n)+'_>>')\n",
    "                Y.append(int(f.evalf(subs={x: pts[0][i]})))\n",
    "                n += 1\n",
    "        pDict.update(dict(pts = pts, y1 = Y[0], y2 = Y[1], plotG = plotGraph(f, pts[0], ip)))\n",
    "        return pDict\n",
    "    \n",
    "    def problem(self, pts):\n",
    "        return Problem(f'''\n",
    "        Complete the following value table of a polynomial of degree 3!$~~~~$The inflection point is $<<ip:latex>>$.\n",
    "        |x| {pts[0][0]} | {pts[0][1]} | {pts[0][2]} | {pts[0][3]} | {pts[0][4]} |\n",
    "        |:---|:---:|:---:|:---:|:---:|:---:|\n",
    "        |y| {pts[1][0]} | {pts[1][1]} | {pts[1][2]} | {pts[1][3]} | {pts[1][4]} |''',\n",
    "        y1_ = Int(widget=Text(width = 4)),\n",
    "        y2_ = Int(widget=Text(width = 4))\n",
    "        )\n",
    "    \n",
    "    def scores(self, y1_, y2_, y1, y2):\n",
    "        score = 2*(y1_==y1) + 2*(y2_==y2)\n",
    "        return score\n",
    "    \n",
    "    def feedback(self, y1_, y2_, y1, y2):\n",
    "        if self.scores(y1_, y2_, y1, y2) == 4: fb = 'Super, alles richtig!'\n",
    "        else: fb = 'Da hat leider nicht alles gestimmt. '\\\n",
    "        '[Hier](https://studyflix.de/lernplan/Y03nJGNg/ganzrationale-funktionen-1956) '+\\\n",
    "        'finden Sie Hilfe.\\n\\n'\n",
    "        return fb + '<<plotG>>' + '\\n\\n$f(x)=$ <<f>>'\n",
    "    \n",
    "Aufgabe9().run(debug = 1)"
   ]
  },
  {
   "cell_type": "markdown",
   "id": "0e3090f3",
   "metadata": {},
   "source": [
    "<u>**Übung 4:**</u>\n",
    "\n",
    "Erzeugen Sie nun eine Werteabelle zu einer  gegebenen kubischen Funktion, die die Funktionswerte der ganzzahligen x-Werte in einem vorgegebenen Intervall in vertikaler Anordnung enthält!"
   ]
  },
  {
   "cell_type": "code",
   "execution_count": 47,
   "id": "77545526",
   "metadata": {
    "jupyter": {
     "source_hidden": true
    }
   },
   "outputs": [
    {
     "data": {
      "application/vnd.jupyter.widget-view+json": {
       "model_id": "e5d4af134a4e4987bafc54b617d66a82",
       "version_major": 2,
       "version_minor": 0
      },
      "text/plain": [
       "Exercise(clear_debug_btn=Button(description='Clear Debug', style=ButtonStyle()), debug_output=DebugOutput(outp…"
      ]
     },
     "metadata": {},
     "output_type": "display_data"
    }
   ],
   "source": [
    "try: Aufgabe10().run()\n",
    "except: print('\\033[0;31mFirst run all cells !') "
   ]
  },
  {
   "cell_type": "markdown",
   "id": "55ecc7cc",
   "metadata": {},
   "source": [
    "### 5. Die Methode *hints*\n",
    "\n",
    "Als Hilfestellung zur Lösung einer Aufgabe können mittels dieser Methode Hinweise hinterlegt werden, die bei Bedarf sukzessive abrufbar sind.\\\n",
    "Als Beispiel soll uns noch einmal die Kubische Funktion aus Abschnitt 4 dienen:"
   ]
  },
  {
   "cell_type": "code",
   "execution_count": 48,
   "id": "a2a88b6a",
   "metadata": {
    "jupyter": {
     "source_hidden": true
    }
   },
   "outputs": [
    {
     "data": {
      "application/vnd.jupyter.widget-view+json": {
       "model_id": "3f4ec0d9b4d74313a0bed55900fb3cc2",
       "version_major": 2,
       "version_minor": 0
      },
      "text/plain": [
       "Exercise(clear_debug_btn=Button(description='Clear Debug', style=ButtonStyle()), debug_output=DebugOutput(outp…"
      ]
     },
     "metadata": {},
     "output_type": "display_data"
    }
   ],
   "source": [
    "class Aufgabe11(Aufgabe8):\n",
    "    \n",
    "    def hints(self):\n",
    "        return ['Die allgemeine Gleichung einer kubischen Funktion lautet: y = f(x) = ax³ + bx² + cx + d',\n",
    "                'Setzen Sie die 3 gegebenen Punkte in die Gleichung ein!',\n",
    "                'An der Wendestelle $x_w$ gilt:  f \"($x_w$) = 0',\n",
    "                'Setzen Sie den gegebenen Wert für $x_w$ in diese Gleichung ein!',\n",
    "                'Sie haben nun ein Gleichungssystem für die 4 Unbekannten a, b, c und d, das eine eindeutige Lösung besitzt.'\n",
    "               ]\n",
    "\n",
    "Aufgabe11().run()"
   ]
  },
  {
   "cell_type": "markdown",
   "id": "4f3f5e8a",
   "metadata": {},
   "source": [
    "In diesem zweiten Teil des *PyRope* Tutorials haben Sie einiges über die Ausgestaltung mathematischer Aufgabestellungen gelernt und können nun\n",
    "+ Formeln mathematisch korrekt darstellen und Aufgabentexte übersichtlich gestalten\n",
    "+ Inputfelder für numerische Werte, Vektoren und Funktionsausdrücke bereitstellen\n",
    "+ Codeabschnitte zur Mehrfachverwendung in Funktionen auslagern\n",
    "+ lösungsabhängiges Feedback verbal, grafisch oder als Weblink ausgeben\n",
    "+ Funktionen in Form von Funktionsausdrücken, Grafiken und Tabellen präsentieren\n",
    "+ mittels der Methode *hints* Hinweise hinterlegen\n",
    "\n",
    "Was *PyRope* sonst noch an Handwerkszeug zur Aufgabenentwicklung bereithält, erfahren Sie in Teil 3 dieses Tutorials.\\\n",
    "Bis demnächst, Ihr FassMII-A-Team!"
   ]
  },
  {
   "cell_type": "markdown",
   "id": "3a1adb2e",
   "metadata": {},
   "source": [
    "##### Der Code zur Übung 1:"
   ]
  },
  {
   "cell_type": "code",
   "execution_count": 49,
   "id": "c38fd66e",
   "metadata": {
    "jupyter": {
     "source_hidden": true
    }
   },
   "outputs": [],
   "source": [
    "class Aufgabe2(Aufgabe1):\n",
    "    \n",
    "    def problem(self, sp):\n",
    "        P = Aufgabe1().problem()\n",
    "        template = P.template + '\\n\\nBerechnen Sie das bestimmte Integral\\n\\n $ ~~~~F = '\\\n",
    "        + (sp[1]<0)* '-' + '\\\\displaystyle \\\\int_{a}^{b} f(x)~dx~= $ <<F_>> $ ~~~~$ '\\\n",
    "        + 'mit [a, b] = $N~~$ (Genauigkeit mind. 3 NK-Stellen)'\n",
    "        ifields = P.ifields\n",
    "        ifields.update(F_ = Real(atol = 0.0005+10**-9, widget = Text(width=8)))\n",
    "        return Problem(template, **ifields)"
   ]
  },
  {
   "cell_type": "markdown",
   "id": "9641f669",
   "metadata": {},
   "source": [
    "##### Der Code zur Übung 2:"
   ]
  },
  {
   "cell_type": "code",
   "execution_count": 34,
   "id": "3b23b0f8",
   "metadata": {
    "jupyter": {
     "source_hidden": true
    }
   },
   "outputs": [],
   "source": [
    "class Aufgabe4(Aufgabe1):    \n",
    "    \n",
    "    def feedback(self, nst_, sp_, nst, sp):\n",
    "        fbTxt = ['Die Nullstellen einer quadratischen Funktion $f(x) = x^2 + px + q~~$ werden mit der Formel '\\\n",
    "        '$~~x_{1/2} = -\\\\frac{p}{2}$ <u>+</u> $\\\\sqrt{\\\\frac{p^2}{4} - q}~~$ berechnet\\n\\n',\n",
    "        'Der Scheitelpunkt $[x_s, y_s]$ einer quadratischen Funktion $f(x) = x^2 + px + q~~$ '\\\n",
    "        'wird mittels der Formeln $~~2x_s + p = 0,~~y_s = f(x_s)~~$ berechnet']\n",
    "        score = self.scores(nst_, sp_, nst, sp)\n",
    "        return (score['nst_']<2)*fbTxt[0] + (score['sp_']<2)*fbTxt[1] + (score['nst_']+score['sp_']==4)*'Super, alles richtig!'\n",
    "    \n",
    "    def scores(self, nst_, sp_, nst, sp):\n",
    "        score = [0, 0]\n",
    "        if nst_ is not None:\n",
    "            if len(nst_)==len(nst):\n",
    "                nst_.sort()\n",
    "                for i in range (len(nst)):\n",
    "                    score[0] += (nst_[i] == nst[i])\n",
    "        if sp_ is not None:\n",
    "            if len(sp_)==2:\n",
    "                score[1] += (sp_[0]==sp[0]) + (sp_[1]==sp[1])\n",
    "        return dict(nst_ = score[0], sp_ = score[1])"
   ]
  },
  {
   "cell_type": "markdown",
   "id": "399e440d",
   "metadata": {},
   "source": [
    "##### Der Code zur Übung 3:"
   ]
  },
  {
   "cell_type": "code",
   "execution_count": 35,
   "id": "90128a6c",
   "metadata": {
    "jupyter": {
     "source_hidden": true
    }
   },
   "outputs": [],
   "source": [
    "class Aufgabe7(Aufgabe2):\n",
    "    \n",
    "    def parameters(self):\n",
    "        pDict = Aufgabe5().parameters()\n",
    "        [fig, nst, f] = [pDict['plotG'], pDict['nst'], pDict['f']]\n",
    "        X = np.arange(min(nst), max(nst), .01); Y = X.copy()\n",
    "        for i in range (len(X)): Y[i] = f.evalf(subs={x: X[i]})\n",
    "        plt.fill_between(X, 0*X, Y, color='gray', alpha = 0.3)\n",
    "        pDict.update(plotG = fig)\n",
    "        return pDict\n",
    "    \n",
    "    def feedback(self, nst_, sp_, nst, sp):\n",
    "        return '<<plotG>>\\n\\n' + Aufgabe3().feedback(nst_, sp_, nst, sp) "
   ]
  },
  {
   "cell_type": "markdown",
   "id": "497a8452",
   "metadata": {},
   "source": [
    "##### Der Code zur Übung 4:"
   ]
  },
  {
   "cell_type": "code",
   "execution_count": 36,
   "id": "6a8dc006",
   "metadata": {
    "jupyter": {
     "source_hidden": true
    }
   },
   "outputs": [],
   "source": [
    "class Aufgabe10(Exercise):\n",
    "    \n",
    "    preamble = '**Values of a Cubic Funktion**'\n",
    "    \n",
    "    def parameters(self):\n",
    "        pDict = Aufgabe6().parameters()\n",
    "        [f, xP, ip] = [pDict['f'], pDict['xP'], pDict['ip']]\n",
    "        a = rd.randint(-10, 10)\n",
    "        b = a + rd.randint(4, 8)\n",
    "        pts = [list(np.arange(a, b+1)), []]\n",
    "        for i in range(len(pts[0])):\n",
    "            pts[1].append(int(f.evalf(subs={x: pts[0][i]})))\n",
    "        pDict.update(dict(pts = pts, a=a, b=b, plotG = plotGraph(f, pts[0]+[ip[0]], ip)))\n",
    "        return pDict\n",
    "    \n",
    "    def problem(self, pts):\n",
    "        valTab = '| x | y |\\n|:---|:---:|\\n'\n",
    "        for i in range(len(pts[0])):\n",
    "            valTab += ' | '+str(pts[0][i])+' | '+str(pts[1][i])+'|\\n'\n",
    "        return Problem(\n",
    "        f'The values of $~~~~~y = f(x) =$ <<f>>$~~~$ in $~~~[<<a:latex>>, <<b:latex>>]~~~~$ are:\\n\\n{valTab}'\n",
    "        )\n",
    "    \n",
    "    def feedback(self):\n",
    "        return '<<plotG>>'"
   ]
  },
  {
   "cell_type": "code",
   "execution_count": null,
   "id": "146d04bb-db83-4bea-ae73-95a4911bdce4",
   "metadata": {
    "jupyter": {
     "source_hidden": true
    }
   },
   "outputs": [],
   "source": []
  }
 ],
 "metadata": {
  "kernelspec": {
   "display_name": "Python 3 (ipykernel)",
   "language": "python",
   "name": "python3"
  },
  "language_info": {
   "codemirror_mode": {
    "name": "ipython",
    "version": 3
   },
   "file_extension": ".py",
   "mimetype": "text/x-python",
   "name": "python",
   "nbconvert_exporter": "python",
   "pygments_lexer": "ipython3",
   "version": "3.12.4"
  }
 },
 "nbformat": 4,
 "nbformat_minor": 5
}
